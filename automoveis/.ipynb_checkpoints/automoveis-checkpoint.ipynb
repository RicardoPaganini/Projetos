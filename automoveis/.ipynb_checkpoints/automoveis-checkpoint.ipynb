{
 "cells": [
  {
   "cell_type": "code",
   "execution_count": 1,
   "metadata": {},
   "outputs": [],
   "source": [
    "# Importando biblioteca Pandas e Numpy\n",
    "import pandas as pd\n",
    "import numpy as np"
   ]
  },
  {
   "cell_type": "code",
   "execution_count": 2,
   "metadata": {},
   "outputs": [],
   "source": [
    "# Carregando o Dataset\n",
    "dataset = pd.read_csv('Automobile.csv')"
   ]
  },
  {
   "cell_type": "markdown",
   "metadata": {},
   "source": [
    "## Análise Exploratória dos Dados - I"
   ]
  },
  {
   "cell_type": "code",
   "execution_count": 3,
   "metadata": {},
   "outputs": [
    {
     "data": {
      "text/html": [
       "<div>\n",
       "<style scoped>\n",
       "    .dataframe tbody tr th:only-of-type {\n",
       "        vertical-align: middle;\n",
       "    }\n",
       "\n",
       "    .dataframe tbody tr th {\n",
       "        vertical-align: top;\n",
       "    }\n",
       "\n",
       "    .dataframe thead th {\n",
       "        text-align: right;\n",
       "    }\n",
       "</style>\n",
       "<table border=\"1\" class=\"dataframe\">\n",
       "  <thead>\n",
       "    <tr style=\"text-align: right;\">\n",
       "      <th></th>\n",
       "      <th>symboling</th>\n",
       "      <th>normalized-losses</th>\n",
       "      <th>make</th>\n",
       "      <th>fuel-type</th>\n",
       "      <th>aspiration</th>\n",
       "      <th>num-of-doors</th>\n",
       "      <th>body-style</th>\n",
       "      <th>drive-wheels</th>\n",
       "      <th>engine-location</th>\n",
       "      <th>wheel-base</th>\n",
       "      <th>...</th>\n",
       "      <th>engine-size</th>\n",
       "      <th>fuel-system</th>\n",
       "      <th>bore</th>\n",
       "      <th>stroke</th>\n",
       "      <th>compression-ratio</th>\n",
       "      <th>horsepower</th>\n",
       "      <th>peak-rpm</th>\n",
       "      <th>city-mpg</th>\n",
       "      <th>highway-mpg</th>\n",
       "      <th>price</th>\n",
       "    </tr>\n",
       "  </thead>\n",
       "  <tbody>\n",
       "    <tr>\n",
       "      <th>0</th>\n",
       "      <td>3</td>\n",
       "      <td>?</td>\n",
       "      <td>alfa-romero</td>\n",
       "      <td>gas</td>\n",
       "      <td>std</td>\n",
       "      <td>two</td>\n",
       "      <td>convertible</td>\n",
       "      <td>rwd</td>\n",
       "      <td>front</td>\n",
       "      <td>88.6</td>\n",
       "      <td>...</td>\n",
       "      <td>130</td>\n",
       "      <td>mpfi</td>\n",
       "      <td>3.47</td>\n",
       "      <td>2.68</td>\n",
       "      <td>9.0</td>\n",
       "      <td>111</td>\n",
       "      <td>5000</td>\n",
       "      <td>21</td>\n",
       "      <td>27</td>\n",
       "      <td>13495</td>\n",
       "    </tr>\n",
       "    <tr>\n",
       "      <th>1</th>\n",
       "      <td>3</td>\n",
       "      <td>?</td>\n",
       "      <td>alfa-romero</td>\n",
       "      <td>gas</td>\n",
       "      <td>std</td>\n",
       "      <td>two</td>\n",
       "      <td>convertible</td>\n",
       "      <td>rwd</td>\n",
       "      <td>front</td>\n",
       "      <td>88.6</td>\n",
       "      <td>...</td>\n",
       "      <td>130</td>\n",
       "      <td>mpfi</td>\n",
       "      <td>3.47</td>\n",
       "      <td>2.68</td>\n",
       "      <td>9.0</td>\n",
       "      <td>111</td>\n",
       "      <td>5000</td>\n",
       "      <td>21</td>\n",
       "      <td>27</td>\n",
       "      <td>16500</td>\n",
       "    </tr>\n",
       "    <tr>\n",
       "      <th>2</th>\n",
       "      <td>1</td>\n",
       "      <td>?</td>\n",
       "      <td>alfa-romero</td>\n",
       "      <td>gas</td>\n",
       "      <td>std</td>\n",
       "      <td>two</td>\n",
       "      <td>hatchback</td>\n",
       "      <td>rwd</td>\n",
       "      <td>front</td>\n",
       "      <td>94.5</td>\n",
       "      <td>...</td>\n",
       "      <td>152</td>\n",
       "      <td>mpfi</td>\n",
       "      <td>2.68</td>\n",
       "      <td>3.47</td>\n",
       "      <td>9.0</td>\n",
       "      <td>154</td>\n",
       "      <td>5000</td>\n",
       "      <td>19</td>\n",
       "      <td>26</td>\n",
       "      <td>16500</td>\n",
       "    </tr>\n",
       "    <tr>\n",
       "      <th>3</th>\n",
       "      <td>2</td>\n",
       "      <td>164</td>\n",
       "      <td>audi</td>\n",
       "      <td>gas</td>\n",
       "      <td>std</td>\n",
       "      <td>four</td>\n",
       "      <td>sedan</td>\n",
       "      <td>fwd</td>\n",
       "      <td>front</td>\n",
       "      <td>99.8</td>\n",
       "      <td>...</td>\n",
       "      <td>109</td>\n",
       "      <td>mpfi</td>\n",
       "      <td>3.19</td>\n",
       "      <td>3.4</td>\n",
       "      <td>10.0</td>\n",
       "      <td>102</td>\n",
       "      <td>5500</td>\n",
       "      <td>24</td>\n",
       "      <td>30</td>\n",
       "      <td>13950</td>\n",
       "    </tr>\n",
       "    <tr>\n",
       "      <th>4</th>\n",
       "      <td>2</td>\n",
       "      <td>164</td>\n",
       "      <td>audi</td>\n",
       "      <td>gas</td>\n",
       "      <td>std</td>\n",
       "      <td>four</td>\n",
       "      <td>sedan</td>\n",
       "      <td>4wd</td>\n",
       "      <td>front</td>\n",
       "      <td>99.4</td>\n",
       "      <td>...</td>\n",
       "      <td>136</td>\n",
       "      <td>mpfi</td>\n",
       "      <td>3.19</td>\n",
       "      <td>3.4</td>\n",
       "      <td>8.0</td>\n",
       "      <td>115</td>\n",
       "      <td>5500</td>\n",
       "      <td>18</td>\n",
       "      <td>22</td>\n",
       "      <td>17450</td>\n",
       "    </tr>\n",
       "  </tbody>\n",
       "</table>\n",
       "<p>5 rows × 26 columns</p>\n",
       "</div>"
      ],
      "text/plain": [
       "   symboling normalized-losses         make fuel-type aspiration num-of-doors  \\\n",
       "0          3                 ?  alfa-romero       gas        std          two   \n",
       "1          3                 ?  alfa-romero       gas        std          two   \n",
       "2          1                 ?  alfa-romero       gas        std          two   \n",
       "3          2               164         audi       gas        std         four   \n",
       "4          2               164         audi       gas        std         four   \n",
       "\n",
       "    body-style drive-wheels engine-location  wheel-base  ...  engine-size  \\\n",
       "0  convertible          rwd           front        88.6  ...          130   \n",
       "1  convertible          rwd           front        88.6  ...          130   \n",
       "2    hatchback          rwd           front        94.5  ...          152   \n",
       "3        sedan          fwd           front        99.8  ...          109   \n",
       "4        sedan          4wd           front        99.4  ...          136   \n",
       "\n",
       "   fuel-system  bore  stroke compression-ratio horsepower  peak-rpm city-mpg  \\\n",
       "0         mpfi  3.47    2.68               9.0        111      5000       21   \n",
       "1         mpfi  3.47    2.68               9.0        111      5000       21   \n",
       "2         mpfi  2.68    3.47               9.0        154      5000       19   \n",
       "3         mpfi  3.19     3.4              10.0        102      5500       24   \n",
       "4         mpfi  3.19     3.4               8.0        115      5500       18   \n",
       "\n",
       "  highway-mpg  price  \n",
       "0          27  13495  \n",
       "1          27  16500  \n",
       "2          26  16500  \n",
       "3          30  13950  \n",
       "4          22  17450  \n",
       "\n",
       "[5 rows x 26 columns]"
      ]
     },
     "execution_count": 3,
     "metadata": {},
     "output_type": "execute_result"
    }
   ],
   "source": [
    "dataset.head()"
   ]
  },
  {
   "cell_type": "code",
   "execution_count": 4,
   "metadata": {},
   "outputs": [
    {
     "data": {
      "text/plain": [
       "Index(['symboling', 'normalized-losses', 'make', 'fuel-type', 'aspiration',\n",
       "       'num-of-doors', 'body-style', 'drive-wheels', 'engine-location',\n",
       "       'wheel-base', 'length', 'width', 'height', 'curb-weight', 'engine-type',\n",
       "       'num-of-cylinders', 'engine-size', 'fuel-system', 'bore', 'stroke',\n",
       "       'compression-ratio', 'horsepower', 'peak-rpm', 'city-mpg',\n",
       "       'highway-mpg', 'price'],\n",
       "      dtype='object')"
      ]
     },
     "execution_count": 4,
     "metadata": {},
     "output_type": "execute_result"
    }
   ],
   "source": [
    "dataset.columns"
   ]
  },
  {
   "cell_type": "code",
   "execution_count": 5,
   "metadata": {},
   "outputs": [
    {
     "name": "stdout",
     "output_type": "stream",
     "text": [
      "<class 'pandas.core.frame.DataFrame'>\n",
      "RangeIndex: 205 entries, 0 to 204\n",
      "Data columns (total 26 columns):\n",
      " #   Column             Non-Null Count  Dtype  \n",
      "---  ------             --------------  -----  \n",
      " 0   symboling          205 non-null    int64  \n",
      " 1   normalized-losses  205 non-null    object \n",
      " 2   make               205 non-null    object \n",
      " 3   fuel-type          205 non-null    object \n",
      " 4   aspiration         205 non-null    object \n",
      " 5   num-of-doors       205 non-null    object \n",
      " 6   body-style         205 non-null    object \n",
      " 7   drive-wheels       205 non-null    object \n",
      " 8   engine-location    205 non-null    object \n",
      " 9   wheel-base         205 non-null    float64\n",
      " 10  length             205 non-null    float64\n",
      " 11  width              205 non-null    float64\n",
      " 12  height             205 non-null    float64\n",
      " 13  curb-weight        205 non-null    int64  \n",
      " 14  engine-type        205 non-null    object \n",
      " 15  num-of-cylinders   205 non-null    object \n",
      " 16  engine-size        205 non-null    int64  \n",
      " 17  fuel-system        205 non-null    object \n",
      " 18  bore               205 non-null    object \n",
      " 19  stroke             205 non-null    object \n",
      " 20  compression-ratio  205 non-null    float64\n",
      " 21  horsepower         205 non-null    object \n",
      " 22  peak-rpm           205 non-null    object \n",
      " 23  city-mpg           205 non-null    int64  \n",
      " 24  highway-mpg        205 non-null    int64  \n",
      " 25  price              205 non-null    object \n",
      "dtypes: float64(5), int64(5), object(16)\n",
      "memory usage: 41.8+ KB\n"
     ]
    }
   ],
   "source": [
    "dataset.info()"
   ]
  },
  {
   "cell_type": "code",
   "execution_count": 6,
   "metadata": {},
   "outputs": [
    {
     "data": {
      "text/html": [
       "<div>\n",
       "<style scoped>\n",
       "    .dataframe tbody tr th:only-of-type {\n",
       "        vertical-align: middle;\n",
       "    }\n",
       "\n",
       "    .dataframe tbody tr th {\n",
       "        vertical-align: top;\n",
       "    }\n",
       "\n",
       "    .dataframe thead th {\n",
       "        text-align: right;\n",
       "    }\n",
       "</style>\n",
       "<table border=\"1\" class=\"dataframe\">\n",
       "  <thead>\n",
       "    <tr style=\"text-align: right;\">\n",
       "      <th></th>\n",
       "      <th>symboling</th>\n",
       "      <th>normalized-losses</th>\n",
       "      <th>make</th>\n",
       "      <th>fuel-type</th>\n",
       "      <th>aspiration</th>\n",
       "      <th>num-of-doors</th>\n",
       "      <th>body-style</th>\n",
       "      <th>drive-wheels</th>\n",
       "      <th>engine-location</th>\n",
       "      <th>wheel-base</th>\n",
       "      <th>...</th>\n",
       "      <th>engine-size</th>\n",
       "      <th>fuel-system</th>\n",
       "      <th>bore</th>\n",
       "      <th>stroke</th>\n",
       "      <th>compression-ratio</th>\n",
       "      <th>horsepower</th>\n",
       "      <th>peak-rpm</th>\n",
       "      <th>city-mpg</th>\n",
       "      <th>highway-mpg</th>\n",
       "      <th>price</th>\n",
       "    </tr>\n",
       "  </thead>\n",
       "  <tbody>\n",
       "    <tr>\n",
       "      <th>0</th>\n",
       "      <td>3</td>\n",
       "      <td>?</td>\n",
       "      <td>alfa-romero</td>\n",
       "      <td>gas</td>\n",
       "      <td>std</td>\n",
       "      <td>two</td>\n",
       "      <td>convertible</td>\n",
       "      <td>rwd</td>\n",
       "      <td>front</td>\n",
       "      <td>88.6</td>\n",
       "      <td>...</td>\n",
       "      <td>130</td>\n",
       "      <td>mpfi</td>\n",
       "      <td>3.47</td>\n",
       "      <td>2.68</td>\n",
       "      <td>9.0</td>\n",
       "      <td>111</td>\n",
       "      <td>5000</td>\n",
       "      <td>21</td>\n",
       "      <td>27</td>\n",
       "      <td>13495</td>\n",
       "    </tr>\n",
       "  </tbody>\n",
       "</table>\n",
       "<p>1 rows × 26 columns</p>\n",
       "</div>"
      ],
      "text/plain": [
       "   symboling normalized-losses         make fuel-type aspiration num-of-doors  \\\n",
       "0          3                 ?  alfa-romero       gas        std          two   \n",
       "\n",
       "    body-style drive-wheels engine-location  wheel-base  ...  engine-size  \\\n",
       "0  convertible          rwd           front        88.6  ...          130   \n",
       "\n",
       "   fuel-system  bore  stroke compression-ratio horsepower  peak-rpm city-mpg  \\\n",
       "0         mpfi  3.47    2.68               9.0        111      5000       21   \n",
       "\n",
       "  highway-mpg  price  \n",
       "0          27  13495  \n",
       "\n",
       "[1 rows x 26 columns]"
      ]
     },
     "execution_count": 6,
     "metadata": {},
     "output_type": "execute_result"
    }
   ],
   "source": [
    "dataset.head(1)"
   ]
  },
  {
   "cell_type": "code",
   "execution_count": 7,
   "metadata": {},
   "outputs": [
    {
     "data": {
      "text/plain": [
       "0"
      ]
     },
     "execution_count": 7,
     "metadata": {},
     "output_type": "execute_result"
    }
   ],
   "source": [
    "# Verificando valores missing das variáveis preditoras\n",
    "dataset.columns.isna().sum()"
   ]
  },
  {
   "cell_type": "code",
   "execution_count": 8,
   "metadata": {},
   "outputs": [
    {
     "data": {
      "text/plain": [
       "symboling             0\n",
       "normalized-losses    41\n",
       "make                  0\n",
       "fuel-type             0\n",
       "aspiration            0\n",
       "num-of-doors          2\n",
       "body-style            0\n",
       "drive-wheels          0\n",
       "engine-location       0\n",
       "wheel-base            0\n",
       "length                0\n",
       "width                 0\n",
       "height                0\n",
       "curb-weight           0\n",
       "engine-type           0\n",
       "num-of-cylinders      0\n",
       "engine-size           0\n",
       "fuel-system           0\n",
       "bore                  4\n",
       "stroke                4\n",
       "compression-ratio     0\n",
       "horsepower            2\n",
       "peak-rpm              2\n",
       "city-mpg              0\n",
       "highway-mpg           0\n",
       "price                 4\n",
       "dtype: int64"
      ]
     },
     "execution_count": 8,
     "metadata": {},
     "output_type": "execute_result"
    }
   ],
   "source": [
    "# Verificando valores '?'\n",
    "dataset.isin(['?']).sum()"
   ]
  },
  {
   "cell_type": "code",
   "execution_count": 9,
   "metadata": {},
   "outputs": [
    {
     "data": {
      "text/plain": [
       "symboling            67\n",
       "normalized-losses     0\n",
       "make                  0\n",
       "fuel-type             0\n",
       "aspiration            0\n",
       "num-of-doors          0\n",
       "body-style            0\n",
       "drive-wheels          0\n",
       "engine-location       0\n",
       "wheel-base            0\n",
       "length                0\n",
       "width                 0\n",
       "height                0\n",
       "curb-weight           0\n",
       "engine-type           0\n",
       "num-of-cylinders      0\n",
       "engine-size           0\n",
       "fuel-system           0\n",
       "bore                  0\n",
       "stroke                0\n",
       "compression-ratio     0\n",
       "horsepower            0\n",
       "peak-rpm              0\n",
       "city-mpg              0\n",
       "highway-mpg           0\n",
       "price                 0\n",
       "dtype: int64"
      ]
     },
     "execution_count": 9,
     "metadata": {},
     "output_type": "execute_result"
    }
   ],
   "source": [
    "# Verificando valores 0\n",
    "dataset.isin([0]).sum()"
   ]
  },
  {
   "cell_type": "code",
   "execution_count": 10,
   "metadata": {},
   "outputs": [
    {
     "data": {
      "text/html": [
       "<div>\n",
       "<style scoped>\n",
       "    .dataframe tbody tr th:only-of-type {\n",
       "        vertical-align: middle;\n",
       "    }\n",
       "\n",
       "    .dataframe tbody tr th {\n",
       "        vertical-align: top;\n",
       "    }\n",
       "\n",
       "    .dataframe thead th {\n",
       "        text-align: right;\n",
       "    }\n",
       "</style>\n",
       "<table border=\"1\" class=\"dataframe\">\n",
       "  <thead>\n",
       "    <tr style=\"text-align: right;\">\n",
       "      <th></th>\n",
       "      <th>symboling</th>\n",
       "      <th>wheel-base</th>\n",
       "      <th>length</th>\n",
       "      <th>width</th>\n",
       "      <th>height</th>\n",
       "      <th>curb-weight</th>\n",
       "      <th>engine-size</th>\n",
       "      <th>compression-ratio</th>\n",
       "      <th>city-mpg</th>\n",
       "      <th>highway-mpg</th>\n",
       "    </tr>\n",
       "  </thead>\n",
       "  <tbody>\n",
       "    <tr>\n",
       "      <th>count</th>\n",
       "      <td>205.000000</td>\n",
       "      <td>205.000000</td>\n",
       "      <td>205.000000</td>\n",
       "      <td>205.000000</td>\n",
       "      <td>205.000000</td>\n",
       "      <td>205.000000</td>\n",
       "      <td>205.000000</td>\n",
       "      <td>205.000000</td>\n",
       "      <td>205.000000</td>\n",
       "      <td>205.000000</td>\n",
       "    </tr>\n",
       "    <tr>\n",
       "      <th>mean</th>\n",
       "      <td>0.834146</td>\n",
       "      <td>98.756585</td>\n",
       "      <td>174.049268</td>\n",
       "      <td>65.907805</td>\n",
       "      <td>53.724878</td>\n",
       "      <td>2555.565854</td>\n",
       "      <td>126.907317</td>\n",
       "      <td>10.142537</td>\n",
       "      <td>25.219512</td>\n",
       "      <td>30.751220</td>\n",
       "    </tr>\n",
       "    <tr>\n",
       "      <th>std</th>\n",
       "      <td>1.245307</td>\n",
       "      <td>6.021776</td>\n",
       "      <td>12.337289</td>\n",
       "      <td>2.145204</td>\n",
       "      <td>2.443522</td>\n",
       "      <td>520.680204</td>\n",
       "      <td>41.642693</td>\n",
       "      <td>3.972040</td>\n",
       "      <td>6.542142</td>\n",
       "      <td>6.886443</td>\n",
       "    </tr>\n",
       "    <tr>\n",
       "      <th>min</th>\n",
       "      <td>-2.000000</td>\n",
       "      <td>86.600000</td>\n",
       "      <td>141.100000</td>\n",
       "      <td>60.300000</td>\n",
       "      <td>47.800000</td>\n",
       "      <td>1488.000000</td>\n",
       "      <td>61.000000</td>\n",
       "      <td>7.000000</td>\n",
       "      <td>13.000000</td>\n",
       "      <td>16.000000</td>\n",
       "    </tr>\n",
       "    <tr>\n",
       "      <th>25%</th>\n",
       "      <td>0.000000</td>\n",
       "      <td>94.500000</td>\n",
       "      <td>166.300000</td>\n",
       "      <td>64.100000</td>\n",
       "      <td>52.000000</td>\n",
       "      <td>2145.000000</td>\n",
       "      <td>97.000000</td>\n",
       "      <td>8.600000</td>\n",
       "      <td>19.000000</td>\n",
       "      <td>25.000000</td>\n",
       "    </tr>\n",
       "    <tr>\n",
       "      <th>50%</th>\n",
       "      <td>1.000000</td>\n",
       "      <td>97.000000</td>\n",
       "      <td>173.200000</td>\n",
       "      <td>65.500000</td>\n",
       "      <td>54.100000</td>\n",
       "      <td>2414.000000</td>\n",
       "      <td>120.000000</td>\n",
       "      <td>9.000000</td>\n",
       "      <td>24.000000</td>\n",
       "      <td>30.000000</td>\n",
       "    </tr>\n",
       "    <tr>\n",
       "      <th>75%</th>\n",
       "      <td>2.000000</td>\n",
       "      <td>102.400000</td>\n",
       "      <td>183.100000</td>\n",
       "      <td>66.900000</td>\n",
       "      <td>55.500000</td>\n",
       "      <td>2935.000000</td>\n",
       "      <td>141.000000</td>\n",
       "      <td>9.400000</td>\n",
       "      <td>30.000000</td>\n",
       "      <td>34.000000</td>\n",
       "    </tr>\n",
       "    <tr>\n",
       "      <th>max</th>\n",
       "      <td>3.000000</td>\n",
       "      <td>120.900000</td>\n",
       "      <td>208.100000</td>\n",
       "      <td>72.300000</td>\n",
       "      <td>59.800000</td>\n",
       "      <td>4066.000000</td>\n",
       "      <td>326.000000</td>\n",
       "      <td>23.000000</td>\n",
       "      <td>49.000000</td>\n",
       "      <td>54.000000</td>\n",
       "    </tr>\n",
       "  </tbody>\n",
       "</table>\n",
       "</div>"
      ],
      "text/plain": [
       "        symboling  wheel-base      length       width      height  \\\n",
       "count  205.000000  205.000000  205.000000  205.000000  205.000000   \n",
       "mean     0.834146   98.756585  174.049268   65.907805   53.724878   \n",
       "std      1.245307    6.021776   12.337289    2.145204    2.443522   \n",
       "min     -2.000000   86.600000  141.100000   60.300000   47.800000   \n",
       "25%      0.000000   94.500000  166.300000   64.100000   52.000000   \n",
       "50%      1.000000   97.000000  173.200000   65.500000   54.100000   \n",
       "75%      2.000000  102.400000  183.100000   66.900000   55.500000   \n",
       "max      3.000000  120.900000  208.100000   72.300000   59.800000   \n",
       "\n",
       "       curb-weight  engine-size  compression-ratio    city-mpg  highway-mpg  \n",
       "count   205.000000   205.000000         205.000000  205.000000   205.000000  \n",
       "mean   2555.565854   126.907317          10.142537   25.219512    30.751220  \n",
       "std     520.680204    41.642693           3.972040    6.542142     6.886443  \n",
       "min    1488.000000    61.000000           7.000000   13.000000    16.000000  \n",
       "25%    2145.000000    97.000000           8.600000   19.000000    25.000000  \n",
       "50%    2414.000000   120.000000           9.000000   24.000000    30.000000  \n",
       "75%    2935.000000   141.000000           9.400000   30.000000    34.000000  \n",
       "max    4066.000000   326.000000          23.000000   49.000000    54.000000  "
      ]
     },
     "execution_count": 10,
     "metadata": {},
     "output_type": "execute_result"
    }
   ],
   "source": [
    "dataset.describe()"
   ]
  },
  {
   "cell_type": "markdown",
   "metadata": {},
   "source": [
    "## Transformação dos Dados - I"
   ]
  },
  {
   "cell_type": "code",
   "execution_count": 11,
   "metadata": {},
   "outputs": [],
   "source": [
    "# Renomeando as colunas\n",
    "dataset = dataset.rename(columns={'symboling' : 'risco',\n",
    "                            'normalized-losses' : 'perda_ano',\n",
    "                            'make' : 'montadora',\n",
    "                            'fuel-type' : 'tipo_combustivel',\n",
    "                            'aspiration' : 'aspiracao',\n",
    "                            'num-of-doors' : 'portas',\n",
    "                            'body-style' : 'carroceria',\n",
    "                            'drive-wheels' : 'tracao',\n",
    "                            'engine-location' : 'local_motor',\n",
    "                            'wheel-base' : 'distancia_eixos',\n",
    "                            'engine-size' : 'tamanho_motor',\n",
    "                            'fuel-system' : 'sistema_combustivel',\n",
    "                            'bore' : 'diametro_cilindro',\n",
    "                            'stroke' : 'torque',\n",
    "                            'compression-ratio' : 'taxa_compressao',\n",
    "                            'horsepower' : 'potencia',\n",
    "                            'peak-rpm' : 'pico_rpm',\n",
    "                            'city-mpg' : 'autonomia_cidade',\n",
    "                            'highway-mpg' : 'autonomia_estrada',\n",
    "                            'price' : 'preco',\n",
    "                            'length' : 'comprimento',\n",
    "                            'width' : 'largura',\n",
    "                            'height' : 'altura',\n",
    "                            'curb-weight' : 'peso_meio_fio',\n",
    "                            'engine-type' : 'tipo_motor',\n",
    "                            'num-of-cylinders' : 'cilindros'}) "
   ]
  },
  {
   "cell_type": "code",
   "execution_count": 12,
   "metadata": {},
   "outputs": [
    {
     "data": {
      "text/html": [
       "<div>\n",
       "<style scoped>\n",
       "    .dataframe tbody tr th:only-of-type {\n",
       "        vertical-align: middle;\n",
       "    }\n",
       "\n",
       "    .dataframe tbody tr th {\n",
       "        vertical-align: top;\n",
       "    }\n",
       "\n",
       "    .dataframe thead th {\n",
       "        text-align: right;\n",
       "    }\n",
       "</style>\n",
       "<table border=\"1\" class=\"dataframe\">\n",
       "  <thead>\n",
       "    <tr style=\"text-align: right;\">\n",
       "      <th></th>\n",
       "      <th>risco</th>\n",
       "      <th>perda_ano</th>\n",
       "      <th>montadora</th>\n",
       "      <th>tipo_combustivel</th>\n",
       "      <th>aspiracao</th>\n",
       "      <th>portas</th>\n",
       "      <th>carroceria</th>\n",
       "      <th>tracao</th>\n",
       "      <th>local_motor</th>\n",
       "      <th>distancia_eixos</th>\n",
       "      <th>...</th>\n",
       "      <th>tamanho_motor</th>\n",
       "      <th>sistema_combustivel</th>\n",
       "      <th>diametro_cilindro</th>\n",
       "      <th>torque</th>\n",
       "      <th>taxa_compressao</th>\n",
       "      <th>potencia</th>\n",
       "      <th>pico_rpm</th>\n",
       "      <th>autonomia_cidade</th>\n",
       "      <th>autonomia_estrada</th>\n",
       "      <th>preco</th>\n",
       "    </tr>\n",
       "  </thead>\n",
       "  <tbody>\n",
       "    <tr>\n",
       "      <th>0</th>\n",
       "      <td>3</td>\n",
       "      <td>?</td>\n",
       "      <td>alfa-romero</td>\n",
       "      <td>gas</td>\n",
       "      <td>std</td>\n",
       "      <td>two</td>\n",
       "      <td>convertible</td>\n",
       "      <td>rwd</td>\n",
       "      <td>front</td>\n",
       "      <td>88.6</td>\n",
       "      <td>...</td>\n",
       "      <td>130</td>\n",
       "      <td>mpfi</td>\n",
       "      <td>3.47</td>\n",
       "      <td>2.68</td>\n",
       "      <td>9.0</td>\n",
       "      <td>111</td>\n",
       "      <td>5000</td>\n",
       "      <td>21</td>\n",
       "      <td>27</td>\n",
       "      <td>13495</td>\n",
       "    </tr>\n",
       "    <tr>\n",
       "      <th>1</th>\n",
       "      <td>3</td>\n",
       "      <td>?</td>\n",
       "      <td>alfa-romero</td>\n",
       "      <td>gas</td>\n",
       "      <td>std</td>\n",
       "      <td>two</td>\n",
       "      <td>convertible</td>\n",
       "      <td>rwd</td>\n",
       "      <td>front</td>\n",
       "      <td>88.6</td>\n",
       "      <td>...</td>\n",
       "      <td>130</td>\n",
       "      <td>mpfi</td>\n",
       "      <td>3.47</td>\n",
       "      <td>2.68</td>\n",
       "      <td>9.0</td>\n",
       "      <td>111</td>\n",
       "      <td>5000</td>\n",
       "      <td>21</td>\n",
       "      <td>27</td>\n",
       "      <td>16500</td>\n",
       "    </tr>\n",
       "    <tr>\n",
       "      <th>2</th>\n",
       "      <td>1</td>\n",
       "      <td>?</td>\n",
       "      <td>alfa-romero</td>\n",
       "      <td>gas</td>\n",
       "      <td>std</td>\n",
       "      <td>two</td>\n",
       "      <td>hatchback</td>\n",
       "      <td>rwd</td>\n",
       "      <td>front</td>\n",
       "      <td>94.5</td>\n",
       "      <td>...</td>\n",
       "      <td>152</td>\n",
       "      <td>mpfi</td>\n",
       "      <td>2.68</td>\n",
       "      <td>3.47</td>\n",
       "      <td>9.0</td>\n",
       "      <td>154</td>\n",
       "      <td>5000</td>\n",
       "      <td>19</td>\n",
       "      <td>26</td>\n",
       "      <td>16500</td>\n",
       "    </tr>\n",
       "    <tr>\n",
       "      <th>3</th>\n",
       "      <td>2</td>\n",
       "      <td>164</td>\n",
       "      <td>audi</td>\n",
       "      <td>gas</td>\n",
       "      <td>std</td>\n",
       "      <td>four</td>\n",
       "      <td>sedan</td>\n",
       "      <td>fwd</td>\n",
       "      <td>front</td>\n",
       "      <td>99.8</td>\n",
       "      <td>...</td>\n",
       "      <td>109</td>\n",
       "      <td>mpfi</td>\n",
       "      <td>3.19</td>\n",
       "      <td>3.4</td>\n",
       "      <td>10.0</td>\n",
       "      <td>102</td>\n",
       "      <td>5500</td>\n",
       "      <td>24</td>\n",
       "      <td>30</td>\n",
       "      <td>13950</td>\n",
       "    </tr>\n",
       "    <tr>\n",
       "      <th>4</th>\n",
       "      <td>2</td>\n",
       "      <td>164</td>\n",
       "      <td>audi</td>\n",
       "      <td>gas</td>\n",
       "      <td>std</td>\n",
       "      <td>four</td>\n",
       "      <td>sedan</td>\n",
       "      <td>4wd</td>\n",
       "      <td>front</td>\n",
       "      <td>99.4</td>\n",
       "      <td>...</td>\n",
       "      <td>136</td>\n",
       "      <td>mpfi</td>\n",
       "      <td>3.19</td>\n",
       "      <td>3.4</td>\n",
       "      <td>8.0</td>\n",
       "      <td>115</td>\n",
       "      <td>5500</td>\n",
       "      <td>18</td>\n",
       "      <td>22</td>\n",
       "      <td>17450</td>\n",
       "    </tr>\n",
       "  </tbody>\n",
       "</table>\n",
       "<p>5 rows × 26 columns</p>\n",
       "</div>"
      ],
      "text/plain": [
       "   risco perda_ano    montadora tipo_combustivel aspiracao portas  \\\n",
       "0      3         ?  alfa-romero              gas       std    two   \n",
       "1      3         ?  alfa-romero              gas       std    two   \n",
       "2      1         ?  alfa-romero              gas       std    two   \n",
       "3      2       164         audi              gas       std   four   \n",
       "4      2       164         audi              gas       std   four   \n",
       "\n",
       "    carroceria tracao local_motor  distancia_eixos  ...  tamanho_motor  \\\n",
       "0  convertible    rwd       front             88.6  ...            130   \n",
       "1  convertible    rwd       front             88.6  ...            130   \n",
       "2    hatchback    rwd       front             94.5  ...            152   \n",
       "3        sedan    fwd       front             99.8  ...            109   \n",
       "4        sedan    4wd       front             99.4  ...            136   \n",
       "\n",
       "   sistema_combustivel  diametro_cilindro  torque taxa_compressao potencia  \\\n",
       "0                 mpfi               3.47    2.68             9.0      111   \n",
       "1                 mpfi               3.47    2.68             9.0      111   \n",
       "2                 mpfi               2.68    3.47             9.0      154   \n",
       "3                 mpfi               3.19     3.4            10.0      102   \n",
       "4                 mpfi               3.19     3.4             8.0      115   \n",
       "\n",
       "   pico_rpm autonomia_cidade autonomia_estrada  preco  \n",
       "0      5000               21                27  13495  \n",
       "1      5000               21                27  16500  \n",
       "2      5000               19                26  16500  \n",
       "3      5500               24                30  13950  \n",
       "4      5500               18                22  17450  \n",
       "\n",
       "[5 rows x 26 columns]"
      ]
     },
     "execution_count": 12,
     "metadata": {},
     "output_type": "execute_result"
    }
   ],
   "source": [
    "dataset.head()"
   ]
  },
  {
   "cell_type": "code",
   "execution_count": 13,
   "metadata": {},
   "outputs": [
    {
     "name": "stdout",
     "output_type": "stream",
     "text": [
      "<class 'pandas.core.frame.DataFrame'>\n",
      "RangeIndex: 205 entries, 0 to 204\n",
      "Data columns (total 26 columns):\n",
      " #   Column               Non-Null Count  Dtype  \n",
      "---  ------               --------------  -----  \n",
      " 0   risco                205 non-null    int64  \n",
      " 1   perda_ano            205 non-null    object \n",
      " 2   montadora            205 non-null    object \n",
      " 3   tipo_combustivel     205 non-null    object \n",
      " 4   aspiracao            205 non-null    object \n",
      " 5   portas               205 non-null    object \n",
      " 6   carroceria           205 non-null    object \n",
      " 7   tracao               205 non-null    object \n",
      " 8   local_motor          205 non-null    object \n",
      " 9   distancia_eixos      205 non-null    float64\n",
      " 10  comprimento          205 non-null    float64\n",
      " 11  largura              205 non-null    float64\n",
      " 12  altura               205 non-null    float64\n",
      " 13  peso_meio_fio        205 non-null    int64  \n",
      " 14  tipo_motor           205 non-null    object \n",
      " 15  cilindros            205 non-null    object \n",
      " 16  tamanho_motor        205 non-null    int64  \n",
      " 17  sistema_combustivel  205 non-null    object \n",
      " 18  diametro_cilindro    205 non-null    object \n",
      " 19  torque               205 non-null    object \n",
      " 20  taxa_compressao      205 non-null    float64\n",
      " 21  potencia             205 non-null    object \n",
      " 22  pico_rpm             205 non-null    object \n",
      " 23  autonomia_cidade     205 non-null    int64  \n",
      " 24  autonomia_estrada    205 non-null    int64  \n",
      " 25  preco                205 non-null    object \n",
      "dtypes: float64(5), int64(5), object(16)\n",
      "memory usage: 41.8+ KB\n"
     ]
    }
   ],
   "source": [
    "dataset.info()"
   ]
  },
  {
   "cell_type": "code",
   "execution_count": 14,
   "metadata": {},
   "outputs": [],
   "source": [
    "# Atribuindo corretamente o tipo as variáveis de acordo com o seu conteúdo e substituindo o caractere ?\n",
    "dataset.risco = dataset.risco.astype('category')\n",
    "\n",
    "dataset.perda_ano = dataset.perda_ano.replace(['?'],['0'])\n",
    "dataset.perda_ano = dataset.perda_ano.astype('int64')\n",
    "\n",
    "\n",
    "dataset.peso_meio_fio = dataset.peso_meio_fio.astype('float64')\n",
    "\n",
    "dataset.diametro_cilindro = dataset.diametro_cilindro.replace(['?'],['0'])\n",
    "dataset.diametro_cilindro = dataset.diametro_cilindro.astype('float64')\n",
    "\n",
    "dataset.torque = dataset.torque.replace(['?'], ['0'])\n",
    "dataset.torque = dataset.torque.astype('float64')\n",
    "\n",
    "dataset.potencia = dataset.potencia.replace(['?'],['0'])\n",
    "dataset.potencia = dataset.potencia.astype('float64')\n",
    "\n",
    "dataset.autonomia_cidade = dataset.autonomia_cidade.astype('float64')\n",
    "dataset.autonomia_estrada = dataset.autonomia_estrada.astype('float64')\n",
    "\n",
    "dataset.preco = dataset.preco.replace(['?'],['0'])\n",
    "dataset.preco = dataset.preco.astype('float64')\n",
    "\n",
    "dataset.pico_rpm = dataset.pico_rpm.replace(['?'], ['0'])\n",
    "dataset.pico_rpm = dataset.pico_rpm.astype('float') \n",
    "\n",
    "dataset.tamanho_motor = dataset.tamanho_motor.astype('float') "
   ]
  },
  {
   "cell_type": "code",
   "execution_count": 15,
   "metadata": {},
   "outputs": [
    {
     "name": "stdout",
     "output_type": "stream",
     "text": [
      "<class 'pandas.core.frame.DataFrame'>\n",
      "RangeIndex: 205 entries, 0 to 204\n",
      "Data columns (total 26 columns):\n",
      " #   Column               Non-Null Count  Dtype   \n",
      "---  ------               --------------  -----   \n",
      " 0   risco                205 non-null    category\n",
      " 1   perda_ano            205 non-null    int64   \n",
      " 2   montadora            205 non-null    object  \n",
      " 3   tipo_combustivel     205 non-null    object  \n",
      " 4   aspiracao            205 non-null    object  \n",
      " 5   portas               205 non-null    object  \n",
      " 6   carroceria           205 non-null    object  \n",
      " 7   tracao               205 non-null    object  \n",
      " 8   local_motor          205 non-null    object  \n",
      " 9   distancia_eixos      205 non-null    float64 \n",
      " 10  comprimento          205 non-null    float64 \n",
      " 11  largura              205 non-null    float64 \n",
      " 12  altura               205 non-null    float64 \n",
      " 13  peso_meio_fio        205 non-null    float64 \n",
      " 14  tipo_motor           205 non-null    object  \n",
      " 15  cilindros            205 non-null    object  \n",
      " 16  tamanho_motor        205 non-null    float64 \n",
      " 17  sistema_combustivel  205 non-null    object  \n",
      " 18  diametro_cilindro    205 non-null    float64 \n",
      " 19  torque               205 non-null    float64 \n",
      " 20  taxa_compressao      205 non-null    float64 \n",
      " 21  potencia             205 non-null    float64 \n",
      " 22  pico_rpm             205 non-null    float64 \n",
      " 23  autonomia_cidade     205 non-null    float64 \n",
      " 24  autonomia_estrada    205 non-null    float64 \n",
      " 25  preco                205 non-null    float64 \n",
      "dtypes: category(1), float64(14), int64(1), object(10)\n",
      "memory usage: 40.6+ KB\n"
     ]
    }
   ],
   "source": [
    "dataset.info()"
   ]
  },
  {
   "cell_type": "code",
   "execution_count": 16,
   "metadata": {},
   "outputs": [
    {
     "data": {
      "text/plain": [
       "risco                  67\n",
       "perda_ano              41\n",
       "montadora               0\n",
       "tipo_combustivel        0\n",
       "aspiracao               0\n",
       "portas                  0\n",
       "carroceria              0\n",
       "tracao                  0\n",
       "local_motor             0\n",
       "distancia_eixos         0\n",
       "comprimento             0\n",
       "largura                 0\n",
       "altura                  0\n",
       "peso_meio_fio           0\n",
       "tipo_motor              0\n",
       "cilindros               0\n",
       "tamanho_motor           0\n",
       "sistema_combustivel     0\n",
       "diametro_cilindro       4\n",
       "torque                  4\n",
       "taxa_compressao         0\n",
       "potencia                2\n",
       "pico_rpm                2\n",
       "autonomia_cidade        0\n",
       "autonomia_estrada       0\n",
       "preco                   4\n",
       "dtype: int64"
      ]
     },
     "execution_count": 16,
     "metadata": {},
     "output_type": "execute_result"
    }
   ],
   "source": [
    "# Verificando os valores 0\n",
    "dataset.isin([0]).sum()"
   ]
  },
  {
   "cell_type": "code",
   "execution_count": 17,
   "metadata": {},
   "outputs": [],
   "source": [
    "# Substituindo os valores 0 das variáveis: diametro_cilindro, torque, potencia e preco\n",
    "dataset.diametro_cilindro = dataset.diametro_cilindro.replace([0], dataset.diametro_cilindro.mean())\n",
    "dataset.torque = dataset.torque.replace([0], dataset.torque.mean())\n",
    "dataset.potencia = dataset.potencia.replace([0], dataset.potencia.mean())\n",
    "dataset.preco = dataset.preco.replace([0], dataset.preco.mean())"
   ]
  },
  {
   "cell_type": "code",
   "execution_count": 18,
   "metadata": {},
   "outputs": [
    {
     "data": {
      "text/plain": [
       "risco                  67\n",
       "perda_ano              41\n",
       "montadora               0\n",
       "tipo_combustivel        0\n",
       "aspiracao               0\n",
       "portas                  0\n",
       "carroceria              0\n",
       "tracao                  0\n",
       "local_motor             0\n",
       "distancia_eixos         0\n",
       "comprimento             0\n",
       "largura                 0\n",
       "altura                  0\n",
       "peso_meio_fio           0\n",
       "tipo_motor              0\n",
       "cilindros               0\n",
       "tamanho_motor           0\n",
       "sistema_combustivel     0\n",
       "diametro_cilindro       0\n",
       "torque                  0\n",
       "taxa_compressao         0\n",
       "potencia                0\n",
       "pico_rpm                2\n",
       "autonomia_cidade        0\n",
       "autonomia_estrada       0\n",
       "preco                   0\n",
       "dtype: int64"
      ]
     },
     "execution_count": 18,
     "metadata": {},
     "output_type": "execute_result"
    }
   ],
   "source": [
    "dataset.isin([0]).sum()"
   ]
  },
  {
   "cell_type": "markdown",
   "metadata": {},
   "source": [
    "## Análise Exploratória dos Dados - II"
   ]
  },
  {
   "cell_type": "code",
   "execution_count": 19,
   "metadata": {},
   "outputs": [],
   "source": [
    "# Verificação de outliers\n",
    "# Importando biblioteca Seaborn\n",
    "import seaborn as sb\n",
    "import matplotlib.pyplot as plt\n",
    "%matplotlib inline"
   ]
  },
  {
   "cell_type": "code",
   "execution_count": 20,
   "metadata": {},
   "outputs": [
    {
     "data": {
      "text/plain": [
       "Index(['risco', 'perda_ano', 'montadora', 'tipo_combustivel', 'aspiracao',\n",
       "       'portas', 'carroceria', 'tracao', 'local_motor', 'distancia_eixos',\n",
       "       'comprimento', 'largura', 'altura', 'peso_meio_fio', 'tipo_motor',\n",
       "       'cilindros', 'tamanho_motor', 'sistema_combustivel',\n",
       "       'diametro_cilindro', 'torque', 'taxa_compressao', 'potencia',\n",
       "       'pico_rpm', 'autonomia_cidade', 'autonomia_estrada', 'preco'],\n",
       "      dtype='object')"
      ]
     },
     "execution_count": 20,
     "metadata": {},
     "output_type": "execute_result"
    }
   ],
   "source": [
    "dataset.columns"
   ]
  },
  {
   "cell_type": "code",
   "execution_count": 21,
   "metadata": {},
   "outputs": [
    {
     "data": {
      "text/plain": [
       "<AxesSubplot:xlabel='perda_ano'>"
      ]
     },
     "execution_count": 21,
     "metadata": {},
     "output_type": "execute_result"
    },
    {
     "data": {
      "image/png": "[encoded data removed]",
      "text/plain": [
       "<Figure size 432x288 with 1 Axes>"
      ]
     },
     "metadata": {
      "needs_background": "light"
     },
     "output_type": "display_data"
    }
   ],
   "source": [
    "sb.boxplot(dataset.perda_ano) # Remover outliers para a criação do modelo preditivo"
   ]
  },
  {
   "cell_type": "code",
   "execution_count": 22,
   "metadata": {},
   "outputs": [
    {
     "data": {
      "text/plain": [
       "<AxesSubplot:xlabel='distancia_eixos'>"
      ]
     },
     "execution_count": 22,
     "metadata": {},
     "output_type": "execute_result"
    },
    {
     "data": {
      "image/png": "[encoded data removed]",
      "text/plain": [
       "<Figure size 432x288 with 1 Axes>"
      ]
     },
     "metadata": {
      "needs_background": "light"
     },
     "output_type": "display_data"
    }
   ],
   "source": [
    "sb.boxplot(dataset.distancia_eixos) # Remover outliers para a criação do modelo preditivo"
   ]
  },
  {
   "cell_type": "code",
   "execution_count": 23,
   "metadata": {},
   "outputs": [
    {
     "data": {
      "text/plain": [
       "<AxesSubplot:xlabel='comprimento'>"
      ]
     },
     "execution_count": 23,
     "metadata": {},
     "output_type": "execute_result"
    },
    {
     "data": {
      "image/png": "[encoded data removed]",
      "text/plain": [
       "<Figure size 432x288 with 1 Axes>"
      ]
     },
     "metadata": {
      "needs_background": "light"
     },
     "output_type": "display_data"
    }
   ],
   "source": [
    "sb.boxplot(dataset.comprimento) # Remover outliers para a criação do modelo preditivo"
   ]
  },
  {
   "cell_type": "code",
   "execution_count": 24,
   "metadata": {},
   "outputs": [
    {
     "data": {
      "text/plain": [
       "<AxesSubplot:xlabel='largura'>"
      ]
     },
     "execution_count": 24,
     "metadata": {},
     "output_type": "execute_result"
    },
    {
     "data": {
      "image/png": "[encoded data removed]",
      "text/plain": [
       "<Figure size 432x288 with 1 Axes>"
      ]
     },
     "metadata": {
      "needs_background": "light"
     },
     "output_type": "display_data"
    }
   ],
   "source": [
    "sb.boxplot(dataset.largura) # Remover outliers para a criação do modelo preditivo"
   ]
  },
  {
   "cell_type": "code",
   "execution_count": 25,
   "metadata": {},
   "outputs": [
    {
     "data": {
      "text/plain": [
       "<AxesSubplot:xlabel='altura'>"
      ]
     },
     "execution_count": 25,
     "metadata": {},
     "output_type": "execute_result"
    },
    {
     "data": {
      "image/png": "[encoded data removed]",
      "text/plain": [
       "<Figure size 432x288 with 1 Axes>"
      ]
     },
     "metadata": {
      "needs_background": "light"
     },
     "output_type": "display_data"
    }
   ],
   "source": [
    "sb.boxplot(dataset.altura)"
   ]
  },
  {
   "cell_type": "code",
   "execution_count": 26,
   "metadata": {},
   "outputs": [
    {
     "data": {
      "text/plain": [
       "<AxesSubplot:xlabel='peso_meio_fio'>"
      ]
     },
     "execution_count": 26,
     "metadata": {},
     "output_type": "execute_result"
    },
    {
     "data": {
      "image/png": "[encoded data removed]",
      "text/plain": [
       "<Figure size 432x288 with 1 Axes>"
      ]
     },
     "metadata": {
      "needs_background": "light"
     },
     "output_type": "display_data"
    }
   ],
   "source": [
    "sb.boxplot(dataset.peso_meio_fio)"
   ]
  },
  {
   "cell_type": "code",
   "execution_count": 27,
   "metadata": {},
   "outputs": [
    {
     "data": {
      "text/plain": [
       "<AxesSubplot:xlabel='tamanho_motor'>"
      ]
     },
     "execution_count": 27,
     "metadata": {},
     "output_type": "execute_result"
    },
    {
     "data": {
      "image/png": "[encoded data removed]",
      "text/plain": [
       "<Figure size 432x288 with 1 Axes>"
      ]
     },
     "metadata": {
      "needs_background": "light"
     },
     "output_type": "display_data"
    }
   ],
   "source": [
    "sb.boxplot(dataset.tamanho_motor) # Remover outliers para a criação do modelo preditivo"
   ]
  },
  {
   "cell_type": "code",
   "execution_count": 28,
   "metadata": {},
   "outputs": [
    {
     "data": {
      "text/plain": [
       "<AxesSubplot:xlabel='diametro_cilindro'>"
      ]
     },
     "execution_count": 28,
     "metadata": {},
     "output_type": "execute_result"
    },
    {
     "data": {
      "image/png": "[encoded data removed]",
      "text/plain": [
       "<Figure size 432x288 with 1 Axes>"
      ]
     },
     "metadata": {
      "needs_background": "light"
     },
     "output_type": "display_data"
    }
   ],
   "source": [
    "sb.boxplot(dataset.diametro_cilindro)"
   ]
  },
  {
   "cell_type": "code",
   "execution_count": 29,
   "metadata": {},
   "outputs": [
    {
     "data": {
      "text/plain": [
       "<AxesSubplot:xlabel='torque'>"
      ]
     },
     "execution_count": 29,
     "metadata": {},
     "output_type": "execute_result"
    },
    {
     "data": {
      "image/png": "[encoded data removed]",
      "text/plain": [
       "<Figure size 432x288 with 1 Axes>"
      ]
     },
     "metadata": {
      "needs_background": "light"
     },
     "output_type": "display_data"
    }
   ],
   "source": [
    "sb.boxplot(dataset.torque) # Remover outliers para a criação do modelo preditivo"
   ]
  },
  {
   "cell_type": "code",
   "execution_count": 30,
   "metadata": {},
   "outputs": [
    {
     "data": {
      "text/plain": [
       "<AxesSubplot:xlabel='taxa_compressao'>"
      ]
     },
     "execution_count": 30,
     "metadata": {},
     "output_type": "execute_result"
    },
    {
     "data": {
      "image/png": "[encoded data removed]",
      "text/plain": [
       "<Figure size 432x288 with 1 Axes>"
      ]
     },
     "metadata": {
      "needs_background": "light"
     },
     "output_type": "display_data"
    }
   ],
   "source": [
    "sb.boxplot(dataset.taxa_compressao) # Remover outliers para a criação do modelo preditivo"
   ]
  },
  {
   "cell_type": "code",
   "execution_count": 31,
   "metadata": {},
   "outputs": [
    {
     "data": {
      "text/plain": [
       "<AxesSubplot:xlabel='potencia'>"
      ]
     },
     "execution_count": 31,
     "metadata": {},
     "output_type": "execute_result"
    },
    {
     "data": {
      "image/png": "[encoded data removed]",
      "text/plain": [
       "<Figure size 432x288 with 1 Axes>"
      ]
     },
     "metadata": {
      "needs_background": "light"
     },
     "output_type": "display_data"
    }
   ],
   "source": [
    "sb.boxplot(dataset.potencia) # Remover outliers para a criação do modelo preditivo"
   ]
  },
  {
   "cell_type": "code",
   "execution_count": 32,
   "metadata": {},
   "outputs": [
    {
     "data": {
      "text/plain": [
       "<AxesSubplot:xlabel='autonomia_cidade'>"
      ]
     },
     "execution_count": 32,
     "metadata": {},
     "output_type": "execute_result"
    },
    {
     "data": {
      "image/png": "[encoded data removed]",
      "text/plain": [
       "<Figure size 432x288 with 1 Axes>"
      ]
     },
     "metadata": {
      "needs_background": "light"
     },
     "output_type": "display_data"
    }
   ],
   "source": [
    "sb.boxplot(dataset.autonomia_cidade) # Remover outliers para a criação do modelo preditivo"
   ]
  },
  {
   "cell_type": "code",
   "execution_count": 33,
   "metadata": {},
   "outputs": [
    {
     "data": {
      "text/plain": [
       "<AxesSubplot:xlabel='autonomia_estrada'>"
      ]
     },
     "execution_count": 33,
     "metadata": {},
     "output_type": "execute_result"
    },
    {
     "data": {
      "image/png": "[encoded data removed]",
      "text/plain": [
       "<Figure size 432x288 with 1 Axes>"
      ]
     },
     "metadata": {
      "needs_background": "light"
     },
     "output_type": "display_data"
    }
   ],
   "source": [
    "sb.boxplot(dataset.autonomia_estrada) # Remover outliers para a criação do modelo preditivo "
   ]
  },
  {
   "cell_type": "code",
   "execution_count": 34,
   "metadata": {},
   "outputs": [
    {
     "data": {
      "text/plain": [
       "<AxesSubplot:xlabel='preco'>"
      ]
     },
     "execution_count": 34,
     "metadata": {},
     "output_type": "execute_result"
    },
    {
     "data": {
      "image/png": "[encoded data removed]",
      "text/plain": [
       "<Figure size 432x288 with 1 Axes>"
      ]
     },
     "metadata": {
      "needs_background": "light"
     },
     "output_type": "display_data"
    }
   ],
   "source": [
    "sb.boxplot(dataset.preco) # Remover outliers para a criação do modelo preditivo"
   ]
  },
  {
   "cell_type": "code",
   "execution_count": 35,
   "metadata": {},
   "outputs": [
    {
     "data": {
      "text/html": [
       "<div>\n",
       "<style scoped>\n",
       "    .dataframe tbody tr th:only-of-type {\n",
       "        vertical-align: middle;\n",
       "    }\n",
       "\n",
       "    .dataframe tbody tr th {\n",
       "        vertical-align: top;\n",
       "    }\n",
       "\n",
       "    .dataframe thead th {\n",
       "        text-align: right;\n",
       "    }\n",
       "</style>\n",
       "<table border=\"1\" class=\"dataframe\">\n",
       "  <thead>\n",
       "    <tr style=\"text-align: right;\">\n",
       "      <th></th>\n",
       "      <th>risco</th>\n",
       "      <th>perda_ano</th>\n",
       "      <th>montadora</th>\n",
       "      <th>tipo_combustivel</th>\n",
       "      <th>aspiracao</th>\n",
       "      <th>portas</th>\n",
       "      <th>carroceria</th>\n",
       "      <th>tracao</th>\n",
       "      <th>local_motor</th>\n",
       "      <th>distancia_eixos</th>\n",
       "      <th>...</th>\n",
       "      <th>tamanho_motor</th>\n",
       "      <th>sistema_combustivel</th>\n",
       "      <th>diametro_cilindro</th>\n",
       "      <th>torque</th>\n",
       "      <th>taxa_compressao</th>\n",
       "      <th>potencia</th>\n",
       "      <th>pico_rpm</th>\n",
       "      <th>autonomia_cidade</th>\n",
       "      <th>autonomia_estrada</th>\n",
       "      <th>preco</th>\n",
       "    </tr>\n",
       "  </thead>\n",
       "  <tbody>\n",
       "    <tr>\n",
       "      <th>0</th>\n",
       "      <td>3</td>\n",
       "      <td>0</td>\n",
       "      <td>alfa-romero</td>\n",
       "      <td>gas</td>\n",
       "      <td>std</td>\n",
       "      <td>two</td>\n",
       "      <td>convertible</td>\n",
       "      <td>rwd</td>\n",
       "      <td>front</td>\n",
       "      <td>88.6</td>\n",
       "      <td>...</td>\n",
       "      <td>130.0</td>\n",
       "      <td>mpfi</td>\n",
       "      <td>3.47</td>\n",
       "      <td>2.68</td>\n",
       "      <td>9.0</td>\n",
       "      <td>111.0</td>\n",
       "      <td>5000.0</td>\n",
       "      <td>21.0</td>\n",
       "      <td>27.0</td>\n",
       "      <td>13495.0</td>\n",
       "    </tr>\n",
       "    <tr>\n",
       "      <th>1</th>\n",
       "      <td>3</td>\n",
       "      <td>0</td>\n",
       "      <td>alfa-romero</td>\n",
       "      <td>gas</td>\n",
       "      <td>std</td>\n",
       "      <td>two</td>\n",
       "      <td>convertible</td>\n",
       "      <td>rwd</td>\n",
       "      <td>front</td>\n",
       "      <td>88.6</td>\n",
       "      <td>...</td>\n",
       "      <td>130.0</td>\n",
       "      <td>mpfi</td>\n",
       "      <td>3.47</td>\n",
       "      <td>2.68</td>\n",
       "      <td>9.0</td>\n",
       "      <td>111.0</td>\n",
       "      <td>5000.0</td>\n",
       "      <td>21.0</td>\n",
       "      <td>27.0</td>\n",
       "      <td>16500.0</td>\n",
       "    </tr>\n",
       "    <tr>\n",
       "      <th>2</th>\n",
       "      <td>1</td>\n",
       "      <td>0</td>\n",
       "      <td>alfa-romero</td>\n",
       "      <td>gas</td>\n",
       "      <td>std</td>\n",
       "      <td>two</td>\n",
       "      <td>hatchback</td>\n",
       "      <td>rwd</td>\n",
       "      <td>front</td>\n",
       "      <td>94.5</td>\n",
       "      <td>...</td>\n",
       "      <td>152.0</td>\n",
       "      <td>mpfi</td>\n",
       "      <td>2.68</td>\n",
       "      <td>3.47</td>\n",
       "      <td>9.0</td>\n",
       "      <td>154.0</td>\n",
       "      <td>5000.0</td>\n",
       "      <td>19.0</td>\n",
       "      <td>26.0</td>\n",
       "      <td>16500.0</td>\n",
       "    </tr>\n",
       "    <tr>\n",
       "      <th>3</th>\n",
       "      <td>2</td>\n",
       "      <td>164</td>\n",
       "      <td>audi</td>\n",
       "      <td>gas</td>\n",
       "      <td>std</td>\n",
       "      <td>four</td>\n",
       "      <td>sedan</td>\n",
       "      <td>fwd</td>\n",
       "      <td>front</td>\n",
       "      <td>99.8</td>\n",
       "      <td>...</td>\n",
       "      <td>109.0</td>\n",
       "      <td>mpfi</td>\n",
       "      <td>3.19</td>\n",
       "      <td>3.40</td>\n",
       "      <td>10.0</td>\n",
       "      <td>102.0</td>\n",
       "      <td>5500.0</td>\n",
       "      <td>24.0</td>\n",
       "      <td>30.0</td>\n",
       "      <td>13950.0</td>\n",
       "    </tr>\n",
       "    <tr>\n",
       "      <th>4</th>\n",
       "      <td>2</td>\n",
       "      <td>164</td>\n",
       "      <td>audi</td>\n",
       "      <td>gas</td>\n",
       "      <td>std</td>\n",
       "      <td>four</td>\n",
       "      <td>sedan</td>\n",
       "      <td>4wd</td>\n",
       "      <td>front</td>\n",
       "      <td>99.4</td>\n",
       "      <td>...</td>\n",
       "      <td>136.0</td>\n",
       "      <td>mpfi</td>\n",
       "      <td>3.19</td>\n",
       "      <td>3.40</td>\n",
       "      <td>8.0</td>\n",
       "      <td>115.0</td>\n",
       "      <td>5500.0</td>\n",
       "      <td>18.0</td>\n",
       "      <td>22.0</td>\n",
       "      <td>17450.0</td>\n",
       "    </tr>\n",
       "  </tbody>\n",
       "</table>\n",
       "<p>5 rows × 26 columns</p>\n",
       "</div>"
      ],
      "text/plain": [
       "  risco  perda_ano    montadora tipo_combustivel aspiracao portas  \\\n",
       "0     3          0  alfa-romero              gas       std    two   \n",
       "1     3          0  alfa-romero              gas       std    two   \n",
       "2     1          0  alfa-romero              gas       std    two   \n",
       "3     2        164         audi              gas       std   four   \n",
       "4     2        164         audi              gas       std   four   \n",
       "\n",
       "    carroceria tracao local_motor  distancia_eixos  ...  tamanho_motor  \\\n",
       "0  convertible    rwd       front             88.6  ...          130.0   \n",
       "1  convertible    rwd       front             88.6  ...          130.0   \n",
       "2    hatchback    rwd       front             94.5  ...          152.0   \n",
       "3        sedan    fwd       front             99.8  ...          109.0   \n",
       "4        sedan    4wd       front             99.4  ...          136.0   \n",
       "\n",
       "   sistema_combustivel  diametro_cilindro  torque taxa_compressao potencia  \\\n",
       "0                 mpfi               3.47    2.68             9.0    111.0   \n",
       "1                 mpfi               3.47    2.68             9.0    111.0   \n",
       "2                 mpfi               2.68    3.47             9.0    154.0   \n",
       "3                 mpfi               3.19    3.40            10.0    102.0   \n",
       "4                 mpfi               3.19    3.40             8.0    115.0   \n",
       "\n",
       "   pico_rpm autonomia_cidade  autonomia_estrada    preco  \n",
       "0    5000.0             21.0               27.0  13495.0  \n",
       "1    5000.0             21.0               27.0  16500.0  \n",
       "2    5000.0             19.0               26.0  16500.0  \n",
       "3    5500.0             24.0               30.0  13950.0  \n",
       "4    5500.0             18.0               22.0  17450.0  \n",
       "\n",
       "[5 rows x 26 columns]"
      ]
     },
     "execution_count": 35,
     "metadata": {},
     "output_type": "execute_result"
    }
   ],
   "source": [
    "dataset.head()"
   ]
  },
  {
   "cell_type": "code",
   "execution_count": 36,
   "metadata": {},
   "outputs": [],
   "source": [
    "# Verificando as variáveis categóricas"
   ]
  },
  {
   "cell_type": "code",
   "execution_count": 37,
   "metadata": {},
   "outputs": [
    {
     "data": {
      "text/plain": [
       "gas       185\n",
       "diesel     20\n",
       "Name: tipo_combustivel, dtype: int64"
      ]
     },
     "execution_count": 37,
     "metadata": {},
     "output_type": "execute_result"
    }
   ],
   "source": [
    "dataset.tipo_combustivel.value_counts() # Alterar os valores para numéricos categóricos (0 = gas, 1 = diesel)"
   ]
  },
  {
   "cell_type": "code",
   "execution_count": 38,
   "metadata": {},
   "outputs": [
    {
     "data": {
      "text/plain": [
       "std      168\n",
       "turbo     37\n",
       "Name: aspiracao, dtype: int64"
      ]
     },
     "execution_count": 38,
     "metadata": {},
     "output_type": "execute_result"
    }
   ],
   "source": [
    "dataset.aspiracao.value_counts() # Alterar os valores para numéricos categóricos (0 = std, 1 = turbo)"
   ]
  },
  {
   "cell_type": "code",
   "execution_count": 39,
   "metadata": {},
   "outputs": [
    {
     "data": {
      "text/plain": [
       "four    114\n",
       "two      89\n",
       "?         2\n",
       "Name: portas, dtype: int64"
      ]
     },
     "execution_count": 39,
     "metadata": {},
     "output_type": "execute_result"
    }
   ],
   "source": [
    "dataset.portas.value_counts() # Alterar os valores para numéricos categóricos (0 = two, 1 = four)\n",
    "                              # Substituir caracter ? 0 = two"
   ]
  },
  {
   "cell_type": "code",
   "execution_count": 40,
   "metadata": {},
   "outputs": [
    {
     "data": {
      "text/plain": [
       "sedan          96\n",
       "hatchback      70\n",
       "wagon          25\n",
       "hardtop         8\n",
       "convertible     6\n",
       "Name: carroceria, dtype: int64"
      ]
     },
     "execution_count": 40,
     "metadata": {},
     "output_type": "execute_result"
    }
   ],
   "source": [
    "dataset.carroceria.value_counts() # Alterar os valores para numéricos categóricos (0 = sedan, 1 = hatchback,\n",
    "                                  # 2 = wagon, 3 = hardtop, 4 = convertible)"
   ]
  },
  {
   "cell_type": "code",
   "execution_count": 41,
   "metadata": {},
   "outputs": [
    {
     "data": {
      "text/plain": [
       "fwd    120\n",
       "rwd     76\n",
       "4wd      9\n",
       "Name: tracao, dtype: int64"
      ]
     },
     "execution_count": 41,
     "metadata": {},
     "output_type": "execute_result"
    }
   ],
   "source": [
    "dataset.tracao.value_counts() # Alterar os valores para numéricos categóricos (0 = fwd, 1 = rwd, 2 = 4wd)"
   ]
  },
  {
   "cell_type": "code",
   "execution_count": 42,
   "metadata": {},
   "outputs": [
    {
     "data": {
      "text/plain": [
       "front    202\n",
       "rear       3\n",
       "Name: local_motor, dtype: int64"
      ]
     },
     "execution_count": 42,
     "metadata": {},
     "output_type": "execute_result"
    }
   ],
   "source": [
    "dataset.local_motor.value_counts() # Alterar os valores para numéricos categóricos (0 = front, 1 = rear)"
   ]
  },
  {
   "cell_type": "code",
   "execution_count": 43,
   "metadata": {},
   "outputs": [
    {
     "data": {
      "text/plain": [
       "ohc      148\n",
       "ohcf      15\n",
       "ohcv      13\n",
       "dohc      12\n",
       "l         12\n",
       "rotor      4\n",
       "dohcv      1\n",
       "Name: tipo_motor, dtype: int64"
      ]
     },
     "execution_count": 43,
     "metadata": {},
     "output_type": "execute_result"
    }
   ],
   "source": [
    "dataset.tipo_motor.value_counts() # Alterar os valores para numéricos categóricos (0 = ohc, 1 = ohcf, 2 = ohcv, \n",
    "                                  # 3 = l, 4= dohc, 5 = rotor, 6 = dohcv)"
   ]
  },
  {
   "cell_type": "code",
   "execution_count": 44,
   "metadata": {},
   "outputs": [
    {
     "data": {
      "text/plain": [
       "four      159\n",
       "six        24\n",
       "five       11\n",
       "eight       5\n",
       "two         4\n",
       "three       1\n",
       "twelve      1\n",
       "Name: cilindros, dtype: int64"
      ]
     },
     "execution_count": 44,
     "metadata": {},
     "output_type": "execute_result"
    }
   ],
   "source": [
    "dataset.cilindros.value_counts() # Alterar os valores para numéricos categóricos (0 = two, 1 = three, 2 = four, \n",
    "                                 # 3 = five, 4= six, 5 = eight, 6 = twelve)"
   ]
  },
  {
   "cell_type": "code",
   "execution_count": 45,
   "metadata": {},
   "outputs": [
    {
     "data": {
      "text/plain": [
       "mpfi    94\n",
       "2bbl    66\n",
       "idi     20\n",
       "1bbl    11\n",
       "spdi     9\n",
       "4bbl     3\n",
       "mfi      1\n",
       "spfi     1\n",
       "Name: sistema_combustivel, dtype: int64"
      ]
     },
     "execution_count": 45,
     "metadata": {},
     "output_type": "execute_result"
    }
   ],
   "source": [
    "dataset.sistema_combustivel.value_counts() # Alterar os valores para numéricos categóricos (0 = mfi, 1 = spfi, \n",
    "                                           # 2 = 4bbl, 3 = spdi, 4= 1bbl, 5 = idi, 6 = 2bbl, 7 = mpfi)"
   ]
  },
  {
   "cell_type": "code",
   "execution_count": 46,
   "metadata": {},
   "outputs": [
    {
     "data": {
      "text/html": [
       "<div>\n",
       "<style scoped>\n",
       "    .dataframe tbody tr th:only-of-type {\n",
       "        vertical-align: middle;\n",
       "    }\n",
       "\n",
       "    .dataframe tbody tr th {\n",
       "        vertical-align: top;\n",
       "    }\n",
       "\n",
       "    .dataframe thead th {\n",
       "        text-align: right;\n",
       "    }\n",
       "</style>\n",
       "<table border=\"1\" class=\"dataframe\">\n",
       "  <thead>\n",
       "    <tr style=\"text-align: right;\">\n",
       "      <th></th>\n",
       "      <th>perda_ano</th>\n",
       "      <th>distancia_eixos</th>\n",
       "      <th>comprimento</th>\n",
       "      <th>largura</th>\n",
       "      <th>altura</th>\n",
       "      <th>peso_meio_fio</th>\n",
       "      <th>tamanho_motor</th>\n",
       "      <th>diametro_cilindro</th>\n",
       "      <th>torque</th>\n",
       "      <th>taxa_compressao</th>\n",
       "      <th>potencia</th>\n",
       "      <th>pico_rpm</th>\n",
       "      <th>autonomia_cidade</th>\n",
       "      <th>autonomia_estrada</th>\n",
       "      <th>preco</th>\n",
       "    </tr>\n",
       "  </thead>\n",
       "  <tbody>\n",
       "    <tr>\n",
       "      <th>perda_ano</th>\n",
       "      <td>1.000000</td>\n",
       "      <td>-0.196317</td>\n",
       "      <td>-0.236562</td>\n",
       "      <td>-0.196650</td>\n",
       "      <td>-0.167410</td>\n",
       "      <td>-0.261289</td>\n",
       "      <td>-0.301343</td>\n",
       "      <td>-0.209836</td>\n",
       "      <td>-0.068499</td>\n",
       "      <td>-0.068856</td>\n",
       "      <td>-0.231733</td>\n",
       "      <td>0.240000</td>\n",
       "      <td>0.150868</td>\n",
       "      <td>0.171033</td>\n",
       "      <td>-0.298331</td>\n",
       "    </tr>\n",
       "    <tr>\n",
       "      <th>distancia_eixos</th>\n",
       "      <td>-0.196317</td>\n",
       "      <td>1.000000</td>\n",
       "      <td>0.874587</td>\n",
       "      <td>0.795144</td>\n",
       "      <td>0.589435</td>\n",
       "      <td>0.776386</td>\n",
       "      <td>0.569329</td>\n",
       "      <td>0.491189</td>\n",
       "      <td>0.163159</td>\n",
       "      <td>0.249786</td>\n",
       "      <td>0.352068</td>\n",
       "      <td>-0.215763</td>\n",
       "      <td>-0.470414</td>\n",
       "      <td>-0.544082</td>\n",
       "      <td>0.583379</td>\n",
       "    </tr>\n",
       "    <tr>\n",
       "      <th>comprimento</th>\n",
       "      <td>-0.236562</td>\n",
       "      <td>0.874587</td>\n",
       "      <td>1.000000</td>\n",
       "      <td>0.841118</td>\n",
       "      <td>0.491029</td>\n",
       "      <td>0.877728</td>\n",
       "      <td>0.683360</td>\n",
       "      <td>0.608051</td>\n",
       "      <td>0.131096</td>\n",
       "      <td>0.158414</td>\n",
       "      <td>0.554328</td>\n",
       "      <td>-0.226995</td>\n",
       "      <td>-0.670909</td>\n",
       "      <td>-0.704662</td>\n",
       "      <td>0.683376</td>\n",
       "    </tr>\n",
       "    <tr>\n",
       "      <th>largura</th>\n",
       "      <td>-0.196650</td>\n",
       "      <td>0.795144</td>\n",
       "      <td>0.841118</td>\n",
       "      <td>1.000000</td>\n",
       "      <td>0.279210</td>\n",
       "      <td>0.867032</td>\n",
       "      <td>0.735433</td>\n",
       "      <td>0.559298</td>\n",
       "      <td>0.183252</td>\n",
       "      <td>0.181129</td>\n",
       "      <td>0.642118</td>\n",
       "      <td>-0.172620</td>\n",
       "      <td>-0.642704</td>\n",
       "      <td>-0.677218</td>\n",
       "      <td>0.728409</td>\n",
       "    </tr>\n",
       "    <tr>\n",
       "      <th>altura</th>\n",
       "      <td>-0.167410</td>\n",
       "      <td>0.589435</td>\n",
       "      <td>0.491029</td>\n",
       "      <td>0.279210</td>\n",
       "      <td>1.000000</td>\n",
       "      <td>0.295572</td>\n",
       "      <td>0.067149</td>\n",
       "      <td>0.178942</td>\n",
       "      <td>-0.048628</td>\n",
       "      <td>0.261214</td>\n",
       "      <td>-0.110046</td>\n",
       "      <td>-0.194241</td>\n",
       "      <td>-0.048640</td>\n",
       "      <td>-0.107358</td>\n",
       "      <td>0.134938</td>\n",
       "    </tr>\n",
       "    <tr>\n",
       "      <th>peso_meio_fio</th>\n",
       "      <td>-0.261289</td>\n",
       "      <td>0.776386</td>\n",
       "      <td>0.877728</td>\n",
       "      <td>0.867032</td>\n",
       "      <td>0.295572</td>\n",
       "      <td>1.000000</td>\n",
       "      <td>0.850594</td>\n",
       "      <td>0.649429</td>\n",
       "      <td>0.169817</td>\n",
       "      <td>0.151362</td>\n",
       "      <td>0.750983</td>\n",
       "      <td>-0.177832</td>\n",
       "      <td>-0.757414</td>\n",
       "      <td>-0.797465</td>\n",
       "      <td>0.820823</td>\n",
       "    </tr>\n",
       "    <tr>\n",
       "      <th>tamanho_motor</th>\n",
       "      <td>-0.301343</td>\n",
       "      <td>0.569329</td>\n",
       "      <td>0.683360</td>\n",
       "      <td>0.735433</td>\n",
       "      <td>0.067149</td>\n",
       "      <td>0.850594</td>\n",
       "      <td>1.000000</td>\n",
       "      <td>0.589617</td>\n",
       "      <td>0.208201</td>\n",
       "      <td>0.028971</td>\n",
       "      <td>0.810679</td>\n",
       "      <td>-0.176800</td>\n",
       "      <td>-0.653658</td>\n",
       "      <td>-0.677470</td>\n",
       "      <td>0.861719</td>\n",
       "    </tr>\n",
       "    <tr>\n",
       "      <th>diametro_cilindro</th>\n",
       "      <td>-0.209836</td>\n",
       "      <td>0.491189</td>\n",
       "      <td>0.608051</td>\n",
       "      <td>0.559298</td>\n",
       "      <td>0.178942</td>\n",
       "      <td>0.649429</td>\n",
       "      <td>0.589617</td>\n",
       "      <td>1.000000</td>\n",
       "      <td>-0.054923</td>\n",
       "      <td>0.006077</td>\n",
       "      <td>0.574671</td>\n",
       "      <td>-0.215859</td>\n",
       "      <td>-0.578099</td>\n",
       "      <td>-0.581376</td>\n",
       "      <td>0.532221</td>\n",
       "    </tr>\n",
       "    <tr>\n",
       "      <th>torque</th>\n",
       "      <td>-0.068499</td>\n",
       "      <td>0.163159</td>\n",
       "      <td>0.131096</td>\n",
       "      <td>0.183252</td>\n",
       "      <td>-0.048628</td>\n",
       "      <td>0.169817</td>\n",
       "      <td>0.208201</td>\n",
       "      <td>-0.054923</td>\n",
       "      <td>1.000000</td>\n",
       "      <td>0.186774</td>\n",
       "      <td>0.087182</td>\n",
       "      <td>-0.199789</td>\n",
       "      <td>-0.037023</td>\n",
       "      <td>-0.039475</td>\n",
       "      <td>0.082303</td>\n",
       "    </tr>\n",
       "    <tr>\n",
       "      <th>taxa_compressao</th>\n",
       "      <td>-0.068856</td>\n",
       "      <td>0.249786</td>\n",
       "      <td>0.158414</td>\n",
       "      <td>0.181129</td>\n",
       "      <td>0.261214</td>\n",
       "      <td>0.151362</td>\n",
       "      <td>0.028971</td>\n",
       "      <td>0.006077</td>\n",
       "      <td>0.186774</td>\n",
       "      <td>1.000000</td>\n",
       "      <td>-0.205647</td>\n",
       "      <td>-0.273063</td>\n",
       "      <td>0.324701</td>\n",
       "      <td>0.265201</td>\n",
       "      <td>0.071166</td>\n",
       "    </tr>\n",
       "    <tr>\n",
       "      <th>potencia</th>\n",
       "      <td>-0.231733</td>\n",
       "      <td>0.352068</td>\n",
       "      <td>0.554328</td>\n",
       "      <td>0.642118</td>\n",
       "      <td>-0.110046</td>\n",
       "      <td>0.750983</td>\n",
       "      <td>0.810679</td>\n",
       "      <td>0.574671</td>\n",
       "      <td>0.087182</td>\n",
       "      <td>-0.205647</td>\n",
       "      <td>1.000000</td>\n",
       "      <td>0.091774</td>\n",
       "      <td>-0.803074</td>\n",
       "      <td>-0.770909</td>\n",
       "      <td>0.757328</td>\n",
       "    </tr>\n",
       "    <tr>\n",
       "      <th>pico_rpm</th>\n",
       "      <td>0.240000</td>\n",
       "      <td>-0.215763</td>\n",
       "      <td>-0.226995</td>\n",
       "      <td>-0.172620</td>\n",
       "      <td>-0.194241</td>\n",
       "      <td>-0.177832</td>\n",
       "      <td>-0.176800</td>\n",
       "      <td>-0.215859</td>\n",
       "      <td>-0.199789</td>\n",
       "      <td>-0.273063</td>\n",
       "      <td>0.091774</td>\n",
       "      <td>1.000000</td>\n",
       "      <td>-0.053546</td>\n",
       "      <td>-0.039868</td>\n",
       "      <td>-0.036449</td>\n",
       "    </tr>\n",
       "    <tr>\n",
       "      <th>autonomia_cidade</th>\n",
       "      <td>0.150868</td>\n",
       "      <td>-0.470414</td>\n",
       "      <td>-0.670909</td>\n",
       "      <td>-0.642704</td>\n",
       "      <td>-0.048640</td>\n",
       "      <td>-0.757414</td>\n",
       "      <td>-0.653658</td>\n",
       "      <td>-0.578099</td>\n",
       "      <td>-0.037023</td>\n",
       "      <td>0.324701</td>\n",
       "      <td>-0.803074</td>\n",
       "      <td>-0.053546</td>\n",
       "      <td>1.000000</td>\n",
       "      <td>0.971337</td>\n",
       "      <td>-0.667642</td>\n",
       "    </tr>\n",
       "    <tr>\n",
       "      <th>autonomia_estrada</th>\n",
       "      <td>0.171033</td>\n",
       "      <td>-0.544082</td>\n",
       "      <td>-0.704662</td>\n",
       "      <td>-0.677218</td>\n",
       "      <td>-0.107358</td>\n",
       "      <td>-0.797465</td>\n",
       "      <td>-0.677470</td>\n",
       "      <td>-0.581376</td>\n",
       "      <td>-0.039475</td>\n",
       "      <td>0.265201</td>\n",
       "      <td>-0.770909</td>\n",
       "      <td>-0.039868</td>\n",
       "      <td>0.971337</td>\n",
       "      <td>1.000000</td>\n",
       "      <td>-0.690822</td>\n",
       "    </tr>\n",
       "    <tr>\n",
       "      <th>preco</th>\n",
       "      <td>-0.298331</td>\n",
       "      <td>0.583379</td>\n",
       "      <td>0.683376</td>\n",
       "      <td>0.728409</td>\n",
       "      <td>0.134938</td>\n",
       "      <td>0.820823</td>\n",
       "      <td>0.861719</td>\n",
       "      <td>0.532221</td>\n",
       "      <td>0.082303</td>\n",
       "      <td>0.071166</td>\n",
       "      <td>0.757328</td>\n",
       "      <td>-0.036449</td>\n",
       "      <td>-0.667642</td>\n",
       "      <td>-0.690822</td>\n",
       "      <td>1.000000</td>\n",
       "    </tr>\n",
       "  </tbody>\n",
       "</table>\n",
       "</div>"
      ],
      "text/plain": [
       "                   perda_ano  distancia_eixos  comprimento   largura  \\\n",
       "perda_ano           1.000000        -0.196317    -0.236562 -0.196650   \n",
       "distancia_eixos    -0.196317         1.000000     0.874587  0.795144   \n",
       "comprimento        -0.236562         0.874587     1.000000  0.841118   \n",
       "largura            -0.196650         0.795144     0.841118  1.000000   \n",
       "altura             -0.167410         0.589435     0.491029  0.279210   \n",
       "peso_meio_fio      -0.261289         0.776386     0.877728  0.867032   \n",
       "tamanho_motor      -0.301343         0.569329     0.683360  0.735433   \n",
       "diametro_cilindro  -0.209836         0.491189     0.608051  0.559298   \n",
       "torque             -0.068499         0.163159     0.131096  0.183252   \n",
       "taxa_compressao    -0.068856         0.249786     0.158414  0.181129   \n",
       "potencia           -0.231733         0.352068     0.554328  0.642118   \n",
       "pico_rpm            0.240000        -0.215763    -0.226995 -0.172620   \n",
       "autonomia_cidade    0.150868        -0.470414    -0.670909 -0.642704   \n",
       "autonomia_estrada   0.171033        -0.544082    -0.704662 -0.677218   \n",
       "preco              -0.298331         0.583379     0.683376  0.728409   \n",
       "\n",
       "                     altura  peso_meio_fio  tamanho_motor  diametro_cilindro  \\\n",
       "perda_ano         -0.167410      -0.261289      -0.301343          -0.209836   \n",
       "distancia_eixos    0.589435       0.776386       0.569329           0.491189   \n",
       "comprimento        0.491029       0.877728       0.683360           0.608051   \n",
       "largura            0.279210       0.867032       0.735433           0.559298   \n",
       "altura             1.000000       0.295572       0.067149           0.178942   \n",
       "peso_meio_fio      0.295572       1.000000       0.850594           0.649429   \n",
       "tamanho_motor      0.067149       0.850594       1.000000           0.589617   \n",
       "diametro_cilindro  0.178942       0.649429       0.589617           1.000000   \n",
       "torque            -0.048628       0.169817       0.208201          -0.054923   \n",
       "taxa_compressao    0.261214       0.151362       0.028971           0.006077   \n",
       "potencia          -0.110046       0.750983       0.810679           0.574671   \n",
       "pico_rpm          -0.194241      -0.177832      -0.176800          -0.215859   \n",
       "autonomia_cidade  -0.048640      -0.757414      -0.653658          -0.578099   \n",
       "autonomia_estrada -0.107358      -0.797465      -0.677470          -0.581376   \n",
       "preco              0.134938       0.820823       0.861719           0.532221   \n",
       "\n",
       "                     torque  taxa_compressao  potencia  pico_rpm  \\\n",
       "perda_ano         -0.068499        -0.068856 -0.231733  0.240000   \n",
       "distancia_eixos    0.163159         0.249786  0.352068 -0.215763   \n",
       "comprimento        0.131096         0.158414  0.554328 -0.226995   \n",
       "largura            0.183252         0.181129  0.642118 -0.172620   \n",
       "altura            -0.048628         0.261214 -0.110046 -0.194241   \n",
       "peso_meio_fio      0.169817         0.151362  0.750983 -0.177832   \n",
       "tamanho_motor      0.208201         0.028971  0.810679 -0.176800   \n",
       "diametro_cilindro -0.054923         0.006077  0.574671 -0.215859   \n",
       "torque             1.000000         0.186774  0.087182 -0.199789   \n",
       "taxa_compressao    0.186774         1.000000 -0.205647 -0.273063   \n",
       "potencia           0.087182        -0.205647  1.000000  0.091774   \n",
       "pico_rpm          -0.199789        -0.273063  0.091774  1.000000   \n",
       "autonomia_cidade  -0.037023         0.324701 -0.803074 -0.053546   \n",
       "autonomia_estrada -0.039475         0.265201 -0.770909 -0.039868   \n",
       "preco              0.082303         0.071166  0.757328 -0.036449   \n",
       "\n",
       "                   autonomia_cidade  autonomia_estrada     preco  \n",
       "perda_ano                  0.150868           0.171033 -0.298331  \n",
       "distancia_eixos           -0.470414          -0.544082  0.583379  \n",
       "comprimento               -0.670909          -0.704662  0.683376  \n",
       "largura                   -0.642704          -0.677218  0.728409  \n",
       "altura                    -0.048640          -0.107358  0.134938  \n",
       "peso_meio_fio             -0.757414          -0.797465  0.820823  \n",
       "tamanho_motor             -0.653658          -0.677470  0.861719  \n",
       "diametro_cilindro         -0.578099          -0.581376  0.532221  \n",
       "torque                    -0.037023          -0.039475  0.082303  \n",
       "taxa_compressao            0.324701           0.265201  0.071166  \n",
       "potencia                  -0.803074          -0.770909  0.757328  \n",
       "pico_rpm                  -0.053546          -0.039868 -0.036449  \n",
       "autonomia_cidade           1.000000           0.971337 -0.667642  \n",
       "autonomia_estrada          0.971337           1.000000 -0.690822  \n",
       "preco                     -0.667642          -0.690822  1.000000  "
      ]
     },
     "execution_count": 46,
     "metadata": {},
     "output_type": "execute_result"
    }
   ],
   "source": [
    "# Verificando a correlação dos atributos\n",
    "dataset.corr(method='pearson')"
   ]
  },
  {
   "cell_type": "markdown",
   "metadata": {},
   "source": [
    "## Transformação dos Dados - II"
   ]
  },
  {
   "cell_type": "code",
   "execution_count": 47,
   "metadata": {},
   "outputs": [
    {
     "data": {
      "text/plain": [
       "(77.0, 137.0)"
      ]
     },
     "execution_count": 47,
     "metadata": {},
     "output_type": "execute_result"
    }
   ],
   "source": [
    "# Removendo os Outliers utilizando a técnica IQR\n",
    "\n",
    "# Variável 'perda_ano'\n",
    "Q1_perda_ano = dataset.perda_ano.quantile(0.25)\n",
    "Q3_perda_ano = dataset.perda_ano.quantile(0.75)\n",
    "\n",
    "Q1_perda_ano , Q3_perda_ano"
   ]
  },
  {
   "cell_type": "code",
   "execution_count": 48,
   "metadata": {},
   "outputs": [
    {
     "data": {
      "text/plain": [
       "(-13.0, 227.0)"
      ]
     },
     "execution_count": 48,
     "metadata": {},
     "output_type": "execute_result"
    }
   ],
   "source": [
    "IQR_perda_ano = Q3_perda_ano - Q1_perda_ano\n",
    "lower_limit_perda_ano = Q1_perda_ano - 1.5 * IQR_perda_ano\n",
    "upper_limit_perda_ano = Q3_perda_ano + 1.5 * IQR_perda_ano\n",
    "lower_limit_perda_ano , upper_limit_perda_ano"
   ]
  },
  {
   "cell_type": "code",
   "execution_count": 49,
   "metadata": {},
   "outputs": [
    {
     "data": {
      "text/html": [
       "<div>\n",
       "<style scoped>\n",
       "    .dataframe tbody tr th:only-of-type {\n",
       "        vertical-align: middle;\n",
       "    }\n",
       "\n",
       "    .dataframe tbody tr th {\n",
       "        vertical-align: top;\n",
       "    }\n",
       "\n",
       "    .dataframe thead th {\n",
       "        text-align: right;\n",
       "    }\n",
       "</style>\n",
       "<table border=\"1\" class=\"dataframe\">\n",
       "  <thead>\n",
       "    <tr style=\"text-align: right;\">\n",
       "      <th></th>\n",
       "      <th>risco</th>\n",
       "      <th>perda_ano</th>\n",
       "      <th>montadora</th>\n",
       "      <th>tipo_combustivel</th>\n",
       "      <th>aspiracao</th>\n",
       "      <th>portas</th>\n",
       "      <th>carroceria</th>\n",
       "      <th>tracao</th>\n",
       "      <th>local_motor</th>\n",
       "      <th>distancia_eixos</th>\n",
       "      <th>...</th>\n",
       "      <th>tamanho_motor</th>\n",
       "      <th>sistema_combustivel</th>\n",
       "      <th>diametro_cilindro</th>\n",
       "      <th>torque</th>\n",
       "      <th>taxa_compressao</th>\n",
       "      <th>potencia</th>\n",
       "      <th>pico_rpm</th>\n",
       "      <th>autonomia_cidade</th>\n",
       "      <th>autonomia_estrada</th>\n",
       "      <th>preco</th>\n",
       "    </tr>\n",
       "  </thead>\n",
       "  <tbody>\n",
       "    <tr>\n",
       "      <th>106</th>\n",
       "      <td>1</td>\n",
       "      <td>231</td>\n",
       "      <td>nissan</td>\n",
       "      <td>gas</td>\n",
       "      <td>std</td>\n",
       "      <td>two</td>\n",
       "      <td>hatchback</td>\n",
       "      <td>rwd</td>\n",
       "      <td>front</td>\n",
       "      <td>99.2</td>\n",
       "      <td>...</td>\n",
       "      <td>181.0</td>\n",
       "      <td>mpfi</td>\n",
       "      <td>3.43</td>\n",
       "      <td>3.27</td>\n",
       "      <td>9.0</td>\n",
       "      <td>160.0</td>\n",
       "      <td>5200.0</td>\n",
       "      <td>19.0</td>\n",
       "      <td>25.0</td>\n",
       "      <td>18399.0</td>\n",
       "    </tr>\n",
       "    <tr>\n",
       "      <th>190</th>\n",
       "      <td>3</td>\n",
       "      <td>256</td>\n",
       "      <td>volkswagen</td>\n",
       "      <td>gas</td>\n",
       "      <td>std</td>\n",
       "      <td>two</td>\n",
       "      <td>hatchback</td>\n",
       "      <td>fwd</td>\n",
       "      <td>front</td>\n",
       "      <td>94.5</td>\n",
       "      <td>...</td>\n",
       "      <td>109.0</td>\n",
       "      <td>mpfi</td>\n",
       "      <td>3.19</td>\n",
       "      <td>3.40</td>\n",
       "      <td>8.5</td>\n",
       "      <td>90.0</td>\n",
       "      <td>5500.0</td>\n",
       "      <td>24.0</td>\n",
       "      <td>29.0</td>\n",
       "      <td>9980.0</td>\n",
       "    </tr>\n",
       "  </tbody>\n",
       "</table>\n",
       "<p>2 rows × 26 columns</p>\n",
       "</div>"
      ],
      "text/plain": [
       "    risco  perda_ano   montadora tipo_combustivel aspiracao portas carroceria  \\\n",
       "106     1        231      nissan              gas       std    two  hatchback   \n",
       "190     3        256  volkswagen              gas       std    two  hatchback   \n",
       "\n",
       "    tracao local_motor  distancia_eixos  ...  tamanho_motor  \\\n",
       "106    rwd       front             99.2  ...          181.0   \n",
       "190    fwd       front             94.5  ...          109.0   \n",
       "\n",
       "     sistema_combustivel  diametro_cilindro  torque taxa_compressao potencia  \\\n",
       "106                 mpfi               3.43    3.27             9.0    160.0   \n",
       "190                 mpfi               3.19    3.40             8.5     90.0   \n",
       "\n",
       "     pico_rpm autonomia_cidade  autonomia_estrada    preco  \n",
       "106    5200.0             19.0               25.0  18399.0  \n",
       "190    5500.0             24.0               29.0   9980.0  \n",
       "\n",
       "[2 rows x 26 columns]"
      ]
     },
     "execution_count": 49,
     "metadata": {},
     "output_type": "execute_result"
    }
   ],
   "source": [
    "dataset[(dataset.perda_ano < lower_limit_perda_ano) | (dataset.perda_ano > upper_limit_perda_ano)] "
   ]
  },
  {
   "cell_type": "code",
   "execution_count": 50,
   "metadata": {},
   "outputs": [],
   "source": [
    "dataset = dataset[(dataset.perda_ano > lower_limit_perda_ano) & (dataset.perda_ano < upper_limit_perda_ano)]"
   ]
  },
  {
   "cell_type": "code",
   "execution_count": 51,
   "metadata": {},
   "outputs": [
    {
     "data": {
      "text/plain": [
       "<AxesSubplot:xlabel='perda_ano'>"
      ]
     },
     "execution_count": 51,
     "metadata": {},
     "output_type": "execute_result"
    },
    {
     "data": {
      "image/png": "[encoded data removed]",
      "text/plain": [
       "<Figure size 432x288 with 1 Axes>"
      ]
     },
     "metadata": {
      "needs_background": "light"
     },
     "output_type": "display_data"
    }
   ],
   "source": [
    "sb.boxplot(dataset.perda_ano)"
   ]
  },
  {
   "cell_type": "code",
   "execution_count": 52,
   "metadata": {},
   "outputs": [
    {
     "data": {
      "text/plain": [
       "(82.64999999999999, 114.25000000000001)"
      ]
     },
     "execution_count": 52,
     "metadata": {},
     "output_type": "execute_result"
    }
   ],
   "source": [
    "# Variável 'distancia_eixos'\n",
    "Q1_distancia_eixos = dataset.distancia_eixos.quantile(0.25)\n",
    "Q3_distancia_eixos = dataset.distancia_eixos.quantile(0.75)\n",
    "IQR_distancia_eixos = Q3_distancia_eixos - Q1_distancia_eixos\n",
    "lower_limit_distancia_eixos = Q1_distancia_eixos - 1.5 * IQR_distancia_eixos\n",
    "upper_limit_distancia_eixos = Q3_distancia_eixos + 1.5 * IQR_distancia_eixos\n",
    "lower_limit_distancia_eixos , upper_limit_distancia_eixos"
   ]
  },
  {
   "cell_type": "code",
   "execution_count": 53,
   "metadata": {},
   "outputs": [
    {
     "data": {
      "text/plain": [
       "70    115.6\n",
       "71    115.6\n",
       "73    120.9\n",
       "Name: distancia_eixos, dtype: float64"
      ]
     },
     "execution_count": 53,
     "metadata": {},
     "output_type": "execute_result"
    }
   ],
   "source": [
    "dataset.distancia_eixos[(dataset.distancia_eixos < lower_limit_distancia_eixos) | (dataset.distancia_eixos > upper_limit_distancia_eixos)] "
   ]
  },
  {
   "cell_type": "code",
   "execution_count": 54,
   "metadata": {},
   "outputs": [],
   "source": [
    "dataset.distancia_eixos.drop(axis=1, index=[70,71,73], inplace=True)"
   ]
  },
  {
   "cell_type": "code",
   "execution_count": 55,
   "metadata": {},
   "outputs": [
    {
     "data": {
      "text/plain": [
       "<AxesSubplot:xlabel='distancia_eixos'>"
      ]
     },
     "execution_count": 55,
     "metadata": {},
     "output_type": "execute_result"
    },
    {
     "data": {
      "image/png": "[encoded data removed]",
      "text/plain": [
       "<Figure size 432x288 with 1 Axes>"
      ]
     },
     "metadata": {
      "needs_background": "light"
     },
     "output_type": "display_data"
    }
   ],
   "source": [
    "sb.boxplot(dataset.distancia_eixos)"
   ]
  },
  {
   "cell_type": "code",
   "execution_count": 56,
   "metadata": {},
   "outputs": [
    {
     "data": {
      "text/plain": [
       "(141.425, 208.425)"
      ]
     },
     "execution_count": 56,
     "metadata": {},
     "output_type": "execute_result"
    }
   ],
   "source": [
    "# Variável 'comprimento'\n",
    "Q1_comprimento = dataset.comprimento.quantile(.25)\n",
    "Q3_comprimento = dataset.comprimento.quantile(.75) \n",
    "\n",
    "IQR_comprimento = Q3_comprimento - Q1_comprimento\n",
    "\n",
    "lower_limit_comprimento = Q1_comprimento - 1.5 * IQR_comprimento\n",
    "upper_limit_comprimento = Q3_comprimento + 1.5 * IQR_comprimento\n",
    "\n",
    "lower_limit_comprimento , upper_limit_comprimento"
   ]
  },
  {
   "cell_type": "code",
   "execution_count": 57,
   "metadata": {},
   "outputs": [
    {
     "data": {
      "text/plain": [
       "18    141.1\n",
       "Name: comprimento, dtype: float64"
      ]
     },
     "execution_count": 57,
     "metadata": {},
     "output_type": "execute_result"
    }
   ],
   "source": [
    "dataset.comprimento[(dataset.comprimento < lower_limit_comprimento) | (dataset.comprimento > upper_limit_comprimento)] "
   ]
  },
  {
   "cell_type": "code",
   "execution_count": 58,
   "metadata": {},
   "outputs": [],
   "source": [
    "dataset.comprimento.drop(axis=1, index=18, inplace=True)"
   ]
  },
  {
   "cell_type": "code",
   "execution_count": 59,
   "metadata": {},
   "outputs": [
    {
     "data": {
      "text/plain": [
       "<AxesSubplot:xlabel='comprimento'>"
      ]
     },
     "execution_count": 59,
     "metadata": {},
     "output_type": "execute_result"
    },
    {
     "data": {
      "image/png": "[encoded data removed]",
      "text/plain": [
       "<Figure size 432x288 with 1 Axes>"
      ]
     },
     "metadata": {
      "needs_background": "light"
     },
     "output_type": "display_data"
    }
   ],
   "source": [
    "sb.boxplot(dataset.comprimento)"
   ]
  },
  {
   "cell_type": "code",
   "execution_count": 60,
   "metadata": {},
   "outputs": [
    {
     "data": {
      "text/plain": [
       "(60.124999999999986, 70.72500000000001)"
      ]
     },
     "execution_count": 60,
     "metadata": {},
     "output_type": "execute_result"
    }
   ],
   "source": [
    "# Variável 'largura'\n",
    "Q1_largura = dataset.largura.quantile(.25)\n",
    "Q3_largura = dataset.largura.quantile(.75) \n",
    "\n",
    "IQR_largura = Q3_largura - Q1_largura\n",
    "\n",
    "lower_limit_largura = Q1_largura - 1.5 * IQR_largura\n",
    "upper_limit_largura = Q3_largura + 1.5 * IQR_largura\n",
    "\n",
    "lower_limit_largura , upper_limit_largura"
   ]
  },
  {
   "cell_type": "code",
   "execution_count": 61,
   "metadata": {},
   "outputs": [
    {
     "data": {
      "text/plain": [
       "6      71.4\n",
       "7      71.4\n",
       "8      71.4\n",
       "17     70.9\n",
       "70     71.7\n",
       "71     71.7\n",
       "73     71.7\n",
       "74     72.0\n",
       "129    72.3\n",
       "Name: largura, dtype: float64"
      ]
     },
     "execution_count": 61,
     "metadata": {},
     "output_type": "execute_result"
    }
   ],
   "source": [
    "dataset.largura[(dataset.largura < lower_limit_largura) | (dataset.largura > upper_limit_largura)] "
   ]
  },
  {
   "cell_type": "code",
   "execution_count": 62,
   "metadata": {},
   "outputs": [],
   "source": [
    "dataset = dataset[(dataset.largura > lower_limit_largura) & (dataset.largura < upper_limit_largura)]"
   ]
  },
  {
   "cell_type": "code",
   "execution_count": 63,
   "metadata": {},
   "outputs": [
    {
     "data": {
      "text/plain": [
       "<AxesSubplot:xlabel='largura'>"
      ]
     },
     "execution_count": 63,
     "metadata": {},
     "output_type": "execute_result"
    },
    {
     "data": {
      "image/png": "[encoded data removed]",
      "text/plain": [
       "<Figure size 432x288 with 1 Axes>"
      ]
     },
     "metadata": {
      "needs_background": "light"
     },
     "output_type": "display_data"
    }
   ],
   "source": [
    "sb.boxplot(dataset.largura)"
   ]
  },
  {
   "cell_type": "code",
   "execution_count": 71,
   "metadata": {},
   "outputs": [
    {
     "data": {
      "text/plain": [
       "(31.0, 207.0)"
      ]
     },
     "execution_count": 71,
     "metadata": {},
     "output_type": "execute_result"
    }
   ],
   "source": [
    "# Variável 'tamanho_motor'\n",
    "Q1_tamanho_motor = dataset.tamanho_motor.quantile(.25)\n",
    "Q3_tamanho_motor = dataset.tamanho_motor.quantile(.75) \n",
    "\n",
    "IQR_tamanho_motor = Q3_tamanho_motor - Q1_tamanho_motor\n",
    "\n",
    "lower_limit_tamanho_motor = Q1_tamanho_motor - 1.5 * IQR_tamanho_motor\n",
    "upper_limit_tamanho_motor = Q3_tamanho_motor + 1.5 * IQR_tamanho_motor\n",
    "\n",
    "lower_limit_tamanho_motor , upper_limit_tamanho_motor"
   ]
  },
  {
   "cell_type": "code",
   "execution_count": 72,
   "metadata": {},
   "outputs": [
    {
     "data": {
      "text/plain": [
       "15    209.0\n",
       "16    209.0\n",
       "47    258.0\n",
       "48    258.0\n",
       "49    326.0\n",
       "72    234.0\n",
       "Name: tamanho_motor, dtype: float64"
      ]
     },
     "execution_count": 72,
     "metadata": {},
     "output_type": "execute_result"
    }
   ],
   "source": [
    "dataset.tamanho_motor[(dataset.tamanho_motor < lower_limit_tamanho_motor) | (dataset.tamanho_motor > upper_limit_tamanho_motor)] "
   ]
  },
  {
   "cell_type": "code",
   "execution_count": 73,
   "metadata": {},
   "outputs": [],
   "source": [
    "dataset = dataset[(dataset.tamanho_motor > lower_limit_tamanho_motor) & (dataset.tamanho_motor < upper_limit_tamanho_motor)]"
   ]
  },
  {
   "cell_type": "code",
   "execution_count": 74,
   "metadata": {},
   "outputs": [
    {
     "data": {
      "text/plain": [
       "<AxesSubplot:xlabel='tamanho_motor'>"
      ]
     },
     "execution_count": 74,
     "metadata": {},
     "output_type": "execute_result"
    },
    {
     "data": {
      "image/png": "[encoded data removed]",
      "text/plain": [
       "<Figure size 432x288 with 1 Axes>"
      ]
     },
     "metadata": {
      "needs_background": "light"
     },
     "output_type": "display_data"
    }
   ],
   "source": [
    "sb.boxplot(dataset.tamanho_motor)"
   ]
  },
  {
   "cell_type": "code",
   "execution_count": 75,
   "metadata": {},
   "outputs": [
    {
     "data": {
      "text/plain": [
       "(2.6599999999999993, 3.8600000000000003)"
      ]
     },
     "execution_count": 75,
     "metadata": {},
     "output_type": "execute_result"
    }
   ],
   "source": [
    "# Variável 'torque'\n",
    "Q1_torque = dataset.torque.quantile(.25)\n",
    "Q3_torque = dataset.torque.quantile(.75) \n",
    "\n",
    "IQR_torque = Q3_torque - Q1_torque\n",
    "\n",
    "lower_limit_torque = Q1_torque - 1.5 * IQR_torque\n",
    "upper_limit_torque = Q3_torque + 1.5 * IQR_torque\n",
    "\n",
    "lower_limit_torque , upper_limit_torque"
   ]
  },
  {
   "cell_type": "code",
   "execution_count": 76,
   "metadata": {},
   "outputs": [
    {
     "data": {
      "text/plain": [
       "29     3.90\n",
       "111    2.19\n",
       "113    2.19\n",
       "130    3.90\n",
       "131    3.90\n",
       "134    2.07\n",
       "138    2.36\n",
       "139    2.64\n",
       "140    2.64\n",
       "141    2.64\n",
       "142    2.64\n",
       "143    2.64\n",
       "144    2.64\n",
       "145    2.64\n",
       "146    2.64\n",
       "147    2.64\n",
       "148    2.64\n",
       "149    2.64\n",
       "Name: torque, dtype: float64"
      ]
     },
     "execution_count": 76,
     "metadata": {},
     "output_type": "execute_result"
    }
   ],
   "source": [
    "dataset.torque[(dataset.torque < lower_limit_torque) | (dataset.torque > upper_limit_torque)] "
   ]
  },
  {
   "cell_type": "code",
   "execution_count": 77,
   "metadata": {},
   "outputs": [],
   "source": [
    "dataset = dataset[(dataset.torque > lower_limit_torque) & (dataset.torque < upper_limit_torque)]"
   ]
  },
  {
   "cell_type": "code",
   "execution_count": 78,
   "metadata": {},
   "outputs": [
    {
     "data": {
      "text/plain": [
       "<AxesSubplot:xlabel='torque'>"
      ]
     },
     "execution_count": 78,
     "metadata": {},
     "output_type": "execute_result"
    },
    {
     "data": {
      "image/png": "[encoded data removed]",
      "text/plain": [
       "<Figure size 432x288 with 1 Axes>"
      ]
     },
     "metadata": {
      "needs_background": "light"
     },
     "output_type": "display_data"
    }
   ],
   "source": [
    "sb.boxplot(dataset.torque)"
   ]
  },
  {
   "cell_type": "code",
   "execution_count": 79,
   "metadata": {},
   "outputs": [
    {
     "data": {
      "text/plain": [
       "(7.712499999999999, 10.412500000000001)"
      ]
     },
     "execution_count": 79,
     "metadata": {},
     "output_type": "execute_result"
    }
   ],
   "source": [
    "# Variável 'taxa_compressao'\n",
    "Q1_taxa_compressao = dataset.taxa_compressao.quantile(.25)\n",
    "Q3_taxa_compressao = dataset.taxa_compressao.quantile(.75) \n",
    "\n",
    "IQR_taxa_compressao = Q3_taxa_compressao - Q1_taxa_compressao\n",
    "\n",
    "lower_limit_taxa_compressao = Q1_taxa_compressao - 1.5 * IQR_taxa_compressao\n",
    "upper_limit_taxa_compressao = Q3_taxa_compressao + 1.5 * IQR_taxa_compressao\n",
    "\n",
    "lower_limit_taxa_compressao , upper_limit_taxa_compressao"
   ]
  },
  {
   "cell_type": "code",
   "execution_count": 82,
   "metadata": {},
   "outputs": [
    {
     "data": {
      "text/plain": [
       "9       7.0\n",
       "23      7.6\n",
       "27      7.6\n",
       "63     22.7\n",
       "66     22.0\n",
       "67     21.5\n",
       "68     21.5\n",
       "69     21.5\n",
       "79      7.6\n",
       "80      7.5\n",
       "82      7.0\n",
       "83      7.0\n",
       "84      7.0\n",
       "87      7.5\n",
       "88      7.5\n",
       "90     21.9\n",
       "108    21.0\n",
       "110    21.0\n",
       "112    21.0\n",
       "114    21.0\n",
       "116    21.0\n",
       "117     7.0\n",
       "119     7.6\n",
       "124     7.0\n",
       "158    22.5\n",
       "159    22.5\n",
       "174    22.5\n",
       "182    23.0\n",
       "184    23.0\n",
       "187    23.0\n",
       "192    23.0\n",
       "198     7.5\n",
       "199     7.5\n",
       "203    23.0\n",
       "Name: taxa_compressao, dtype: float64"
      ]
     },
     "execution_count": 82,
     "metadata": {},
     "output_type": "execute_result"
    }
   ],
   "source": [
    "dataset.taxa_compressao[(dataset.taxa_compressao < lower_limit_taxa_compressao) | (dataset.taxa_compressao > upper_limit_taxa_compressao)] "
   ]
  },
  {
   "cell_type": "code",
   "execution_count": 90,
   "metadata": {},
   "outputs": [],
   "source": [
    "dataset = dataset[(dataset.taxa_compressao > lower_limit_taxa_compressao) & (dataset.taxa_compressao < upper_limit_taxa_compressao)]"
   ]
  },
  {
   "cell_type": "code",
   "execution_count": 95,
   "metadata": {},
   "outputs": [
    {
     "data": {
      "text/plain": [
       "<AxesSubplot:xlabel='taxa_compressao'>"
      ]
     },
     "execution_count": 95,
     "metadata": {},
     "output_type": "execute_result"
    },
    {
     "data": {
      "image/png": "[encoded data removed]",
      "text/plain": [
       "<Figure size 432x288 with 1 Axes>"
      ]
     },
     "metadata": {
      "needs_background": "light"
     },
     "output_type": "display_data"
    }
   ],
   "source": [
    "sb.boxplot(dataset.taxa_compressao)"
   ]
  },
  {
   "cell_type": "code",
   "execution_count": 80,
   "metadata": {},
   "outputs": [
    {
     "data": {
      "text/plain": [
       "(-0.875, 186.125)"
      ]
     },
     "execution_count": 80,
     "metadata": {},
     "output_type": "execute_result"
    }
   ],
   "source": [
    "# Variável 'potencia'\n",
    "Q1_potencia = dataset.potencia.quantile(.25)\n",
    "Q3_potencia = dataset.potencia.quantile(.75) \n",
    "\n",
    "IQR_potencia = Q3_potencia - Q1_potencia\n",
    "\n",
    "lower_limit_potencia = Q1_potencia - 1.5 * IQR_potencia\n",
    "upper_limit_potencia = Q3_potencia + 1.5 * IQR_potencia\n",
    "\n",
    "lower_limit_potencia , upper_limit_potencia"
   ]
  },
  {
   "cell_type": "code",
   "execution_count": 83,
   "metadata": {},
   "outputs": [
    {
     "data": {
      "text/plain": [
       "105    200.0\n",
       "126    207.0\n",
       "127    207.0\n",
       "128    207.0\n",
       "Name: potencia, dtype: float64"
      ]
     },
     "execution_count": 83,
     "metadata": {},
     "output_type": "execute_result"
    }
   ],
   "source": [
    "dataset.potencia[(dataset.potencia < lower_limit_potencia) | (dataset.potencia > upper_limit_potencia)] "
   ]
  },
  {
   "cell_type": "code",
   "execution_count": 91,
   "metadata": {},
   "outputs": [],
   "source": [
    "dataset = dataset[(dataset.potencia > lower_limit_potencia) & (dataset.potencia < upper_limit_potencia)]"
   ]
  },
  {
   "cell_type": "code",
   "execution_count": 96,
   "metadata": {},
   "outputs": [
    {
     "data": {
      "text/plain": [
       "<AxesSubplot:xlabel='potencia'>"
      ]
     },
     "execution_count": 96,
     "metadata": {},
     "output_type": "execute_result"
    },
    {
     "data": {
      "image/png": "[encoded data removed]",
      "text/plain": [
       "<Figure size 432x288 with 1 Axes>"
      ]
     },
     "metadata": {
      "needs_background": "light"
     },
     "output_type": "display_data"
    }
   ],
   "source": [
    "sb.boxplot(dataset.potencia)"
   ]
  },
  {
   "cell_type": "code",
   "execution_count": 85,
   "metadata": {},
   "outputs": [
    {
     "data": {
      "text/plain": [
       "(6.0, 46.0)"
      ]
     },
     "execution_count": 85,
     "metadata": {},
     "output_type": "execute_result"
    }
   ],
   "source": [
    "# Variável 'autonomia_cidade'\n",
    "Q1_autonomia_cidade = dataset.autonomia_cidade.quantile(.25)\n",
    "Q3_autonomia_cidade = dataset.autonomia_cidade.quantile(.75) \n",
    "\n",
    "IQR_autonomia_cidade = Q3_autonomia_cidade - Q1_autonomia_cidade\n",
    "\n",
    "lower_limit_autonomia_cidade = Q1_autonomia_cidade - 1.5 * IQR_autonomia_cidade\n",
    "upper_limit_autonomia_cidade = Q3_autonomia_cidade + 1.5 * IQR_autonomia_cidade\n",
    "\n",
    "lower_limit_autonomia_cidade , upper_limit_autonomia_cidade"
   ]
  },
  {
   "cell_type": "code",
   "execution_count": 86,
   "metadata": {},
   "outputs": [
    {
     "data": {
      "text/plain": [
       "18    47.0\n",
       "30    49.0\n",
       "Name: autonomia_cidade, dtype: float64"
      ]
     },
     "execution_count": 86,
     "metadata": {},
     "output_type": "execute_result"
    }
   ],
   "source": [
    "dataset.autonomia_cidade[(dataset.autonomia_cidade < lower_limit_autonomia_cidade) | (dataset.autonomia_cidade > upper_limit_autonomia_cidade)] "
   ]
  },
  {
   "cell_type": "code",
   "execution_count": 92,
   "metadata": {},
   "outputs": [],
   "source": [
    "dataset = dataset[(dataset.autonomia_cidade > lower_limit_autonomia_cidade) & (dataset.autonomia_cidade < upper_limit_autonomia_cidade)]"
   ]
  },
  {
   "cell_type": "code",
   "execution_count": 97,
   "metadata": {},
   "outputs": [
    {
     "data": {
      "text/plain": [
       "<AxesSubplot:xlabel='autonomia_cidade'>"
      ]
     },
     "execution_count": 97,
     "metadata": {},
     "output_type": "execute_result"
    },
    {
     "data": {
      "image/png": "[encoded data removed]",
      "text/plain": [
       "<Figure size 432x288 with 1 Axes>"
      ]
     },
     "metadata": {
      "needs_background": "light"
     },
     "output_type": "display_data"
    }
   ],
   "source": [
    "sb.boxplot(dataset.autonomia_cidade)"
   ]
  },
  {
   "cell_type": "code",
   "execution_count": 87,
   "metadata": {},
   "outputs": [
    {
     "data": {
      "text/plain": [
       "(10.125, 53.125)"
      ]
     },
     "execution_count": 87,
     "metadata": {},
     "output_type": "execute_result"
    }
   ],
   "source": [
    "# Variável 'autonomia_estrada'\n",
    "Q1_autonomia_estrada = dataset.autonomia_estrada.quantile(.25)\n",
    "Q3_autonomia_estrada = dataset.autonomia_estrada.quantile(.75) \n",
    "\n",
    "IQR_autonomia_estrada = Q3_autonomia_estrada - Q1_autonomia_estrada\n",
    "\n",
    "lower_limit_autonomia_estrada = Q1_autonomia_estrada - 1.5 * IQR_autonomia_estrada\n",
    "upper_limit_autonomia_estrada = Q3_autonomia_estrada + 1.5 * IQR_autonomia_estrada\n",
    "\n",
    "lower_limit_autonomia_estrada , upper_limit_autonomia_estrada"
   ]
  },
  {
   "cell_type": "code",
   "execution_count": 88,
   "metadata": {},
   "outputs": [
    {
     "data": {
      "text/plain": [
       "30    54.0\n",
       "Name: autonomia_estrada, dtype: float64"
      ]
     },
     "execution_count": 88,
     "metadata": {},
     "output_type": "execute_result"
    }
   ],
   "source": [
    "dataset.autonomia_estrada[(dataset.autonomia_estrada < lower_limit_autonomia_estrada) | (dataset.autonomia_estrada > upper_limit_autonomia_estrada)] "
   ]
  },
  {
   "cell_type": "code",
   "execution_count": 93,
   "metadata": {},
   "outputs": [],
   "source": [
    "dataset = dataset[(dataset.autonomia_estrada > lower_limit_autonomia_estrada) & (dataset.autonomia_estrada < upper_limit_autonomia_estrada)]"
   ]
  },
  {
   "cell_type": "code",
   "execution_count": 98,
   "metadata": {},
   "outputs": [
    {
     "data": {
      "text/plain": [
       "<AxesSubplot:xlabel='autonomia_estrada'>"
      ]
     },
     "execution_count": 98,
     "metadata": {},
     "output_type": "execute_result"
    },
    {
     "data": {
      "image/png": "[encoded data removed]",
      "text/plain": [
       "<Figure size 432x288 with 1 Axes>"
      ]
     },
     "metadata": {
      "needs_background": "light"
     },
     "output_type": "display_data"
    }
   ],
   "source": [
    "sb.boxplot(dataset.autonomia_estrada)"
   ]
  },
  {
   "cell_type": "code",
   "execution_count": 81,
   "metadata": {},
   "outputs": [
    {
     "data": {
      "text/plain": [
       "(-3914.375, 27060.625)"
      ]
     },
     "execution_count": 81,
     "metadata": {},
     "output_type": "execute_result"
    }
   ],
   "source": [
    "# Variável 'preco'\n",
    "Q1_preco = dataset.preco.quantile(.25)\n",
    "Q3_preco = dataset.preco.quantile(.75) \n",
    "\n",
    "IQR_preco = Q3_preco - Q1_preco\n",
    "\n",
    "lower_limit_preco = Q1_preco - 1.5 * IQR_preco\n",
    "upper_limit_preco = Q3_preco + 1.5 * IQR_preco\n",
    "\n",
    "lower_limit_preco , upper_limit_preco"
   ]
  },
  {
   "cell_type": "code",
   "execution_count": 89,
   "metadata": {},
   "outputs": [
    {
     "data": {
      "text/plain": [
       "68     28248.0\n",
       "69     28176.0\n",
       "126    32528.0\n",
       "127    34028.0\n",
       "128    37028.0\n",
       "Name: preco, dtype: float64"
      ]
     },
     "execution_count": 89,
     "metadata": {},
     "output_type": "execute_result"
    }
   ],
   "source": [
    "dataset.preco[(dataset.preco < lower_limit_preco) | (dataset.preco > upper_limit_preco)] "
   ]
  },
  {
   "cell_type": "code",
   "execution_count": 94,
   "metadata": {},
   "outputs": [],
   "source": [
    "dataset = dataset[(dataset.preco > lower_limit_preco) & (dataset.preco < upper_limit_preco)]"
   ]
  },
  {
   "cell_type": "code",
   "execution_count": 99,
   "metadata": {},
   "outputs": [
    {
     "data": {
      "text/plain": [
       "<AxesSubplot:xlabel='preco'>"
      ]
     },
     "execution_count": 99,
     "metadata": {},
     "output_type": "execute_result"
    },
    {
     "data": {
      "image/png": "[encoded data removed]",
      "text/plain": [
       "<Figure size 432x288 with 1 Axes>"
      ]
     },
     "metadata": {
      "needs_background": "light"
     },
     "output_type": "display_data"
    }
   ],
   "source": [
    "sb.boxplot(dataset.preco)"
   ]
  },
  {
   "cell_type": "code",
   "execution_count": null,
   "metadata": {},
   "outputs": [],
   "source": []
  }
 ],
 "metadata": {
  "kernelspec": {
   "display_name": "Python 3",
   "language": "python",
   "name": "python3"
  },
  "language_info": {
   "codemirror_mode": {
    "name": "ipython",
    "version": 3
   },
   "file_extension": ".py",
   "mimetype": "text/x-python",
   "name": "python",
   "nbconvert_exporter": "python",
   "pygments_lexer": "ipython3",
   "version": "3.8.5"
  }
 },
 "nbformat": 4,
 "nbformat_minor": 4
}
